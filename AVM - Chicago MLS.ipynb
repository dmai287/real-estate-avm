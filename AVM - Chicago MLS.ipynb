{
 "cells": [
  {
   "cell_type": "code",
   "execution_count": 32,
   "metadata": {},
   "outputs": [],
   "source": [
    "import pandas as pd\n",
    "import numpy as np\n",
    "pd.set_option('display.max_columns', None)\n",
    "import warnings\n",
    "import seaborn as sns\n",
    "import matplotlib.pyplot as plt\n",
    "warnings.filterwarnings(\"ignore\")\n",
    "\n",
    "from sklearn.model_selection import train_test_split, cross_val_score\n",
    "from sklearn.preprocessing import StandardScaler\n",
    "from sklearn.metrics import r2_score, mean_absolute_error, mean_squared_error\n",
    "\n",
    "from sklearn.linear_model import LinearRegression\n",
    "from sklearn.linear_model import Ridge\n",
    "from sklearn.linear_model import Lasso\n",
    "from sklearn.linear_model import ElasticNet\n",
    "from sklearn.ensemble import RandomForestRegressor\n",
    "from sklearn.svm import SVR\n",
    "from xgboost import XGBRegressor\n",
    "from sklearn.preprocessing import PolynomialFeatures"
   ]
  },
  {
   "cell_type": "code",
   "execution_count": null,
   "metadata": {},
   "outputs": [],
   "source": []
  },
  {
   "cell_type": "code",
   "execution_count": null,
   "metadata": {},
   "outputs": [],
   "source": []
  },
  {
   "cell_type": "code",
   "execution_count": 33,
   "metadata": {},
   "outputs": [],
   "source": [
    "chicago_list = pd.read_csv(\n",
    "    \"/Users/maidat/Downloads/Privy/CSV/red_chicago_property_listings.csv\",\n",
    "    low_memory=False)"
   ]
  },
  {
   "cell_type": "code",
   "execution_count": 3,
   "metadata": {},
   "outputs": [],
   "source": [
    "chicago_list_clean = chicago_list.copy()"
   ]
  },
  {
   "cell_type": "code",
   "execution_count": 4,
   "metadata": {},
   "outputs": [],
   "source": [
    "chicago_list_clean = chicago_list.dropna(axis=1,how='all')\n",
    "chicago_list_clean = chicago_list_clean.dropna(how='all')"
   ]
  },
  {
   "cell_type": "code",
   "execution_count": 5,
   "metadata": {},
   "outputs": [
    {
     "data": {
      "text/plain": [
       "(1696381, 60)"
      ]
     },
     "execution_count": 5,
     "metadata": {},
     "output_type": "execute_result"
    }
   ],
   "source": [
    "chicago_list_clean.shape"
   ]
  },
  {
   "cell_type": "code",
   "execution_count": null,
   "metadata": {},
   "outputs": [],
   "source": []
  },
  {
   "cell_type": "code",
   "execution_count": 6,
   "metadata": {},
   "outputs": [
    {
     "data": {
      "text/plain": [
       "Index(['id', 'property_id', 'listing_number', 'status_changed_on',\n",
       "       'created_at', 'updated_at', 'status', 'listed_on', 'contracted_on',\n",
       "       'off_market_on', 'sold_on', 'list_price', 'sold_price',\n",
       "       'original_list_price', 'previous_price', 'seller_concessions',\n",
       "       'above_grade_square_feet', 'total_square_feet', 'finished_square_feet',\n",
       "       'derived_basement_square_feet', 'car_storage', 'car_spaces', 'garages',\n",
       "       'beds', 'baths', 'area', 'subdivision', 'street', 'city', 'state',\n",
       "       'zip', 'county', 'property_key', 'externally_last_updated_at', 'photos',\n",
       "       'photos_pulled', 'structural_style', 'property_type', 'architecture',\n",
       "       'year_built', 'lot_size_square_feet', 'lot_size_acres',\n",
       "       'basement_finished_pct', 'basement_square_feet', 'public_remarks',\n",
       "       'description', 'lat', 'lng', 'zoned', 'listing_agent',\n",
       "       'listing_brokerage', 'structural_type', 'is_attached', 'stories',\n",
       "       'parcel_number', 'hoa_fee', 'private_remarks', 'price_changes',\n",
       "       'unit_count', 'county_data_id'],\n",
       "      dtype='object')"
      ]
     },
     "execution_count": 6,
     "metadata": {},
     "output_type": "execute_result"
    }
   ],
   "source": [
    "chicago_list_clean.columns"
   ]
  },
  {
   "cell_type": "code",
   "execution_count": 7,
   "metadata": {},
   "outputs": [],
   "source": [
    "chicago_list_clean = chicago_list_clean.drop(columns=[\n",
    "    'id', 'property_id', 'list_price', 'listing_number', 'status_changed_on', 'created_at',\n",
    "    'updated_at', 'status', 'listed_on', 'contracted_on', 'off_market_on',\n",
    "    'sold_on', 'subdivision', 'street', 'property_key',\n",
    "    'externally_last_updated_at', 'photos', 'photos_pulled', 'public_remarks',\n",
    "    'description', 'listing_agent', 'listing_brokerage', 'parcel_number',\n",
    "    'private_remarks', 'price_changes', 'county_data_id', 'car_storage'\n",
    "])"
   ]
  },
  {
   "cell_type": "code",
   "execution_count": 8,
   "metadata": {},
   "outputs": [
    {
     "data": {
      "text/html": [
       "<div>\n",
       "<style scoped>\n",
       "    .dataframe tbody tr th:only-of-type {\n",
       "        vertical-align: middle;\n",
       "    }\n",
       "\n",
       "    .dataframe tbody tr th {\n",
       "        vertical-align: top;\n",
       "    }\n",
       "\n",
       "    .dataframe thead th {\n",
       "        text-align: right;\n",
       "    }\n",
       "</style>\n",
       "<table border=\"1\" class=\"dataframe\">\n",
       "  <thead>\n",
       "    <tr style=\"text-align: right;\">\n",
       "      <th></th>\n",
       "      <th>sold_price</th>\n",
       "      <th>original_list_price</th>\n",
       "      <th>previous_price</th>\n",
       "      <th>seller_concessions</th>\n",
       "      <th>above_grade_square_feet</th>\n",
       "      <th>total_square_feet</th>\n",
       "      <th>finished_square_feet</th>\n",
       "      <th>derived_basement_square_feet</th>\n",
       "      <th>car_spaces</th>\n",
       "      <th>garages</th>\n",
       "      <th>beds</th>\n",
       "      <th>baths</th>\n",
       "      <th>area</th>\n",
       "      <th>city</th>\n",
       "      <th>state</th>\n",
       "      <th>zip</th>\n",
       "      <th>county</th>\n",
       "      <th>structural_style</th>\n",
       "      <th>property_type</th>\n",
       "      <th>architecture</th>\n",
       "      <th>year_built</th>\n",
       "      <th>lot_size_square_feet</th>\n",
       "      <th>lot_size_acres</th>\n",
       "      <th>basement_finished_pct</th>\n",
       "      <th>basement_square_feet</th>\n",
       "      <th>lat</th>\n",
       "      <th>lng</th>\n",
       "      <th>zoned</th>\n",
       "      <th>structural_type</th>\n",
       "      <th>is_attached</th>\n",
       "      <th>stories</th>\n",
       "      <th>hoa_fee</th>\n",
       "      <th>unit_count</th>\n",
       "    </tr>\n",
       "  </thead>\n",
       "  <tbody>\n",
       "    <tr>\n",
       "      <th>0</th>\n",
       "      <td>20154.0</td>\n",
       "      <td>19100.0</td>\n",
       "      <td>19100.0</td>\n",
       "      <td>0</td>\n",
       "      <td>1096.0</td>\n",
       "      <td>1096.0</td>\n",
       "      <td>1096.0</td>\n",
       "      <td>NaN</td>\n",
       "      <td>NaN</td>\n",
       "      <td>1.0</td>\n",
       "      <td>2.0</td>\n",
       "      <td>1.0</td>\n",
       "      <td>8049.0</td>\n",
       "      <td>CHICAGO</td>\n",
       "      <td>IL</td>\n",
       "      <td>60619</td>\n",
       "      <td>COOK</td>\n",
       "      <td>Townhouse-2 Story</td>\n",
       "      <td>Attached Single</td>\n",
       "      <td>NaN</td>\n",
       "      <td>1942.0</td>\n",
       "      <td>NaN</td>\n",
       "      <td>NaN</td>\n",
       "      <td>NaN</td>\n",
       "      <td>NaN</td>\n",
       "      <td>41.727149</td>\n",
       "      <td>-87.617485</td>\n",
       "      <td>NaN</td>\n",
       "      <td>Attached</td>\n",
       "      <td>1</td>\n",
       "      <td>2</td>\n",
       "      <td>0.0</td>\n",
       "      <td>NaN</td>\n",
       "    </tr>\n",
       "    <tr>\n",
       "      <th>1</th>\n",
       "      <td>274000.0</td>\n",
       "      <td>315000.0</td>\n",
       "      <td>294900.0</td>\n",
       "      <td>0</td>\n",
       "      <td>2703.0</td>\n",
       "      <td>2703.0</td>\n",
       "      <td>2703.0</td>\n",
       "      <td>NaN</td>\n",
       "      <td>NaN</td>\n",
       "      <td>3.0</td>\n",
       "      <td>4.0</td>\n",
       "      <td>2.0</td>\n",
       "      <td>123.0</td>\n",
       "      <td>ELGIN</td>\n",
       "      <td>IL</td>\n",
       "      <td>60124</td>\n",
       "      <td>KANE</td>\n",
       "      <td>Condo</td>\n",
       "      <td>Detached Single</td>\n",
       "      <td>Colonial</td>\n",
       "      <td>1978.0</td>\n",
       "      <td>34352.0</td>\n",
       "      <td>1.0</td>\n",
       "      <td>NaN</td>\n",
       "      <td>NaN</td>\n",
       "      <td>42.009250</td>\n",
       "      <td>-88.370437</td>\n",
       "      <td>NaN</td>\n",
       "      <td>Detached</td>\n",
       "      <td>0</td>\n",
       "      <td>2</td>\n",
       "      <td>50.0</td>\n",
       "      <td>NaN</td>\n",
       "    </tr>\n",
       "    <tr>\n",
       "      <th>2</th>\n",
       "      <td>108900.0</td>\n",
       "      <td>NaN</td>\n",
       "      <td>109900.0</td>\n",
       "      <td>0</td>\n",
       "      <td>2000.0</td>\n",
       "      <td>2000.0</td>\n",
       "      <td>2000.0</td>\n",
       "      <td>0.0</td>\n",
       "      <td>NaN</td>\n",
       "      <td>NaN</td>\n",
       "      <td>3.0</td>\n",
       "      <td>2.0</td>\n",
       "      <td>6007.0</td>\n",
       "      <td>SAVOY</td>\n",
       "      <td>IL</td>\n",
       "      <td>61874</td>\n",
       "      <td>CHAMPA</td>\n",
       "      <td>Cluster</td>\n",
       "      <td>Detached Single</td>\n",
       "      <td>Contemporary</td>\n",
       "      <td>NaN</td>\n",
       "      <td>9900.0</td>\n",
       "      <td>0.0</td>\n",
       "      <td>NaN</td>\n",
       "      <td>0.0</td>\n",
       "      <td>40.078350</td>\n",
       "      <td>-88.250626</td>\n",
       "      <td>NaN</td>\n",
       "      <td>Detached</td>\n",
       "      <td>0</td>\n",
       "      <td>1</td>\n",
       "      <td>0.0</td>\n",
       "      <td>NaN</td>\n",
       "    </tr>\n",
       "    <tr>\n",
       "      <th>3</th>\n",
       "      <td>60000.0</td>\n",
       "      <td>NaN</td>\n",
       "      <td>64500.0</td>\n",
       "      <td>0</td>\n",
       "      <td>1170.0</td>\n",
       "      <td>1170.0</td>\n",
       "      <td>1170.0</td>\n",
       "      <td>0.0</td>\n",
       "      <td>NaN</td>\n",
       "      <td>NaN</td>\n",
       "      <td>3.0</td>\n",
       "      <td>1.0</td>\n",
       "      <td>6003.0</td>\n",
       "      <td>TUSCOLA</td>\n",
       "      <td>IL</td>\n",
       "      <td>61953</td>\n",
       "      <td>DOUGLA</td>\n",
       "      <td>Cluster</td>\n",
       "      <td>Detached Single</td>\n",
       "      <td>Bungalow</td>\n",
       "      <td>NaN</td>\n",
       "      <td>12351.0</td>\n",
       "      <td>0.0</td>\n",
       "      <td>NaN</td>\n",
       "      <td>0.0</td>\n",
       "      <td>39.803560</td>\n",
       "      <td>-88.280907</td>\n",
       "      <td>NaN</td>\n",
       "      <td>Detached</td>\n",
       "      <td>0</td>\n",
       "      <td>1</td>\n",
       "      <td>0.0</td>\n",
       "      <td>NaN</td>\n",
       "    </tr>\n",
       "    <tr>\n",
       "      <th>4</th>\n",
       "      <td>81000.0</td>\n",
       "      <td>NaN</td>\n",
       "      <td>90000.0</td>\n",
       "      <td>0</td>\n",
       "      <td>1509.0</td>\n",
       "      <td>1509.0</td>\n",
       "      <td>1509.0</td>\n",
       "      <td>1292.0</td>\n",
       "      <td>NaN</td>\n",
       "      <td>NaN</td>\n",
       "      <td>3.0</td>\n",
       "      <td>1.0</td>\n",
       "      <td>6003.0</td>\n",
       "      <td>PHILO</td>\n",
       "      <td>IL</td>\n",
       "      <td>61874</td>\n",
       "      <td>CHAMPA</td>\n",
       "      <td>1/2 Duplex</td>\n",
       "      <td>Detached Single</td>\n",
       "      <td>NaN</td>\n",
       "      <td>NaN</td>\n",
       "      <td>17160.0</td>\n",
       "      <td>0.0</td>\n",
       "      <td>NaN</td>\n",
       "      <td>1292.0</td>\n",
       "      <td>40.000268</td>\n",
       "      <td>-88.160982</td>\n",
       "      <td>NaN</td>\n",
       "      <td>Detached</td>\n",
       "      <td>0</td>\n",
       "      <td>1</td>\n",
       "      <td>0.0</td>\n",
       "      <td>NaN</td>\n",
       "    </tr>\n",
       "  </tbody>\n",
       "</table>\n",
       "</div>"
      ],
      "text/plain": [
       "   sold_price  original_list_price  previous_price  seller_concessions  \\\n",
       "0     20154.0              19100.0         19100.0                   0   \n",
       "1    274000.0             315000.0        294900.0                   0   \n",
       "2    108900.0                  NaN        109900.0                   0   \n",
       "3     60000.0                  NaN         64500.0                   0   \n",
       "4     81000.0                  NaN         90000.0                   0   \n",
       "\n",
       "   above_grade_square_feet  total_square_feet  finished_square_feet  \\\n",
       "0                   1096.0             1096.0                1096.0   \n",
       "1                   2703.0             2703.0                2703.0   \n",
       "2                   2000.0             2000.0                2000.0   \n",
       "3                   1170.0             1170.0                1170.0   \n",
       "4                   1509.0             1509.0                1509.0   \n",
       "\n",
       "   derived_basement_square_feet  car_spaces  garages  beds  baths    area  \\\n",
       "0                           NaN         NaN      1.0   2.0    1.0  8049.0   \n",
       "1                           NaN         NaN      3.0   4.0    2.0   123.0   \n",
       "2                           0.0         NaN      NaN   3.0    2.0  6007.0   \n",
       "3                           0.0         NaN      NaN   3.0    1.0  6003.0   \n",
       "4                        1292.0         NaN      NaN   3.0    1.0  6003.0   \n",
       "\n",
       "      city state    zip  county   structural_style    property_type  \\\n",
       "0  CHICAGO    IL  60619    COOK  Townhouse-2 Story  Attached Single   \n",
       "1    ELGIN    IL  60124    KANE              Condo  Detached Single   \n",
       "2    SAVOY    IL  61874  CHAMPA            Cluster  Detached Single   \n",
       "3  TUSCOLA    IL  61953  DOUGLA            Cluster  Detached Single   \n",
       "4    PHILO    IL  61874  CHAMPA         1/2 Duplex  Detached Single   \n",
       "\n",
       "   architecture  year_built  lot_size_square_feet  lot_size_acres  \\\n",
       "0           NaN      1942.0                   NaN             NaN   \n",
       "1      Colonial      1978.0               34352.0             1.0   \n",
       "2  Contemporary         NaN                9900.0             0.0   \n",
       "3      Bungalow         NaN               12351.0             0.0   \n",
       "4           NaN         NaN               17160.0             0.0   \n",
       "\n",
       "   basement_finished_pct  basement_square_feet        lat        lng zoned  \\\n",
       "0                    NaN                   NaN  41.727149 -87.617485   NaN   \n",
       "1                    NaN                   NaN  42.009250 -88.370437   NaN   \n",
       "2                    NaN                   0.0  40.078350 -88.250626   NaN   \n",
       "3                    NaN                   0.0  39.803560 -88.280907   NaN   \n",
       "4                    NaN                1292.0  40.000268 -88.160982   NaN   \n",
       "\n",
       "  structural_type  is_attached  stories  hoa_fee  unit_count  \n",
       "0        Attached            1        2      0.0         NaN  \n",
       "1        Detached            0        2     50.0         NaN  \n",
       "2        Detached            0        1      0.0         NaN  \n",
       "3        Detached            0        1      0.0         NaN  \n",
       "4        Detached            0        1      0.0         NaN  "
      ]
     },
     "execution_count": 8,
     "metadata": {},
     "output_type": "execute_result"
    }
   ],
   "source": [
    "chicago_list_clean.head()"
   ]
  },
  {
   "cell_type": "code",
   "execution_count": 9,
   "metadata": {},
   "outputs": [],
   "source": [
    "# chicago_list_clean['city'] = chicago_list_clean['city'].astype('category').cat.codes\n",
    "# chicago_list_clean['state'] = chicago_list_clean['state'].astype('category').cat.codes\n",
    "# chicago_list_clean['county'] = chicago_list_clean['county'].astype('category').cat.codes\n",
    "# chicago_list_clean['structural_style'] = chicago_list_clean['structural_style'].astype('category').cat.codes\n",
    "# chicago_list_clean['property_type'] = chicago_list_clean['property_type'].astype('category').cat.codes\n",
    "# chicago_list_clean['architecture'] = chicago_list_clean['architecture'].astype('category').cat.codes\n",
    "# chicago_list_clean['structural_type'] = chicago_list_clean['structural_type'].astype('category').cat.codes\n",
    "# chicago_list_clean['zoned'] = chicago_list_clean['zoned'].astype('category').cat.codes"
   ]
  },
  {
   "cell_type": "code",
   "execution_count": 10,
   "metadata": {},
   "outputs": [],
   "source": [
    "chicago_list_clean['zip'] = pd.to_numeric(chicago_list_clean['zip'], errors='coerce')\n",
    "chicago_list_clean = chicago_list_clean.dropna(subset=['zip'])\n",
    "chicago_list_clean['zip'] = chicago_list_clean['zip'].astype('int')"
   ]
  },
  {
   "cell_type": "code",
   "execution_count": 11,
   "metadata": {},
   "outputs": [
    {
     "data": {
      "text/plain": [
       "sold_price                      float64\n",
       "original_list_price             float64\n",
       "previous_price                  float64\n",
       "seller_concessions                int64\n",
       "above_grade_square_feet         float64\n",
       "total_square_feet               float64\n",
       "finished_square_feet            float64\n",
       "derived_basement_square_feet    float64\n",
       "car_spaces                      float64\n",
       "garages                         float64\n",
       "beds                            float64\n",
       "baths                           float64\n",
       "area                            float64\n",
       "city                             object\n",
       "state                            object\n",
       "zip                               int64\n",
       "county                           object\n",
       "structural_style                 object\n",
       "property_type                    object\n",
       "architecture                     object\n",
       "year_built                      float64\n",
       "lot_size_square_feet            float64\n",
       "lot_size_acres                  float64\n",
       "basement_finished_pct           float64\n",
       "basement_square_feet            float64\n",
       "lat                             float64\n",
       "lng                             float64\n",
       "zoned                            object\n",
       "structural_type                  object\n",
       "is_attached                       int64\n",
       "stories                           int64\n",
       "hoa_fee                         float64\n",
       "unit_count                      float64\n",
       "dtype: object"
      ]
     },
     "execution_count": 11,
     "metadata": {},
     "output_type": "execute_result"
    }
   ],
   "source": [
    "chicago_list_clean.dtypes"
   ]
  },
  {
   "cell_type": "code",
   "execution_count": null,
   "metadata": {},
   "outputs": [],
   "source": []
  },
  {
   "cell_type": "markdown",
   "metadata": {},
   "source": [
    "# Correlations"
   ]
  },
  {
   "cell_type": "code",
   "execution_count": 12,
   "metadata": {},
   "outputs": [
    {
     "data": {
      "image/png": "[encoded data removed]",
      "text/plain": [
       "<Figure size 720x576 with 2 Axes>"
      ]
     },
     "metadata": {
      "needs_background": "light"
     },
     "output_type": "display_data"
    }
   ],
   "source": [
    "plt.figure(figsize=(10,8))\n",
    "sns.heatmap(chicago_list_clean.corr(), cmap=\"RdBu\")\n",
    "plt.title(\"Correlations Between Variables\", size=15)\n",
    "plt.show()"
   ]
  },
  {
   "cell_type": "markdown",
   "metadata": {},
   "source": [
    "# Feature Selection"
   ]
  },
  {
   "cell_type": "markdown",
   "metadata": {},
   "source": [
    "We are selecting numerical features which have more than 0.50 or less than -0.50 correlation rate based on Pearson Correlation Method—which is the default value of parameter \"method\" in corr() function. As for selecting categorical features, I selected the categorical values which I believe have significant effect on the target variable such as City, State, County..."
   ]
  },
  {
   "cell_type": "code",
   "execution_count": 13,
   "metadata": {},
   "outputs": [],
   "source": [
    "important_num_cols = list(\n",
    "    chicago_list_clean.corr()[\"sold_price\"][(chicago_list_clean.corr()[\"sold_price\"] > 0.50) | (\n",
    "        chicago_list_clean.corr()[\"sold_price\"] < -0.50)].index)\n",
    "\n",
    "cat_cols =  \n",
    "\n",
    "important_cols = important_num_cols + cat_cols\n",
    "\n",
    "df = chicago_list_clean[important_cols]"
   ]
  },
  {
   "cell_type": "code",
   "execution_count": 14,
   "metadata": {},
   "outputs": [],
   "source": [
    "df = df.dropna()"
   ]
  },
  {
   "cell_type": "code",
   "execution_count": null,
   "metadata": {},
   "outputs": [],
   "source": []
  },
  {
   "cell_type": "code",
   "execution_count": 15,
   "metadata": {},
   "outputs": [
    {
     "data": {
      "text/html": [
       "<div>\n",
       "<style scoped>\n",
       "    .dataframe tbody tr th:only-of-type {\n",
       "        vertical-align: middle;\n",
       "    }\n",
       "\n",
       "    .dataframe tbody tr th {\n",
       "        vertical-align: top;\n",
       "    }\n",
       "\n",
       "    .dataframe thead th {\n",
       "        text-align: right;\n",
       "    }\n",
       "</style>\n",
       "<table border=\"1\" class=\"dataframe\">\n",
       "  <thead>\n",
       "    <tr style=\"text-align: right;\">\n",
       "      <th></th>\n",
       "      <th>sold_price</th>\n",
       "      <th>above_grade_square_feet</th>\n",
       "      <th>finished_square_feet</th>\n",
       "      <th>baths</th>\n",
       "      <th>city</th>\n",
       "      <th>state</th>\n",
       "      <th>county</th>\n",
       "      <th>structural_style</th>\n",
       "      <th>property_type</th>\n",
       "      <th>architecture</th>\n",
       "      <th>structural_type</th>\n",
       "      <th>zoned</th>\n",
       "      <th>zip</th>\n",
       "    </tr>\n",
       "  </thead>\n",
       "  <tbody>\n",
       "    <tr>\n",
       "      <th>675</th>\n",
       "      <td>260000.0</td>\n",
       "      <td>1788.0</td>\n",
       "      <td>1788.0</td>\n",
       "      <td>2.0</td>\n",
       "      <td>MOMENCE</td>\n",
       "      <td>IL</td>\n",
       "      <td>KANK</td>\n",
       "      <td>Cluster</td>\n",
       "      <td>Detached Single</td>\n",
       "      <td>Tri-Level</td>\n",
       "      <td>Detached</td>\n",
       "      <td>AGRIC</td>\n",
       "      <td>60954</td>\n",
       "    </tr>\n",
       "    <tr>\n",
       "      <th>749</th>\n",
       "      <td>299900.0</td>\n",
       "      <td>2171.0</td>\n",
       "      <td>2171.0</td>\n",
       "      <td>3.0</td>\n",
       "      <td>BOURBONNAIS</td>\n",
       "      <td>IL</td>\n",
       "      <td>KANK</td>\n",
       "      <td>1/2 Duplex</td>\n",
       "      <td>Detached Single</td>\n",
       "      <td>Ranch</td>\n",
       "      <td>Detached</td>\n",
       "      <td>SINGL</td>\n",
       "      <td>60914</td>\n",
       "    </tr>\n",
       "    <tr>\n",
       "      <th>757</th>\n",
       "      <td>160000.0</td>\n",
       "      <td>1656.0</td>\n",
       "      <td>1656.0</td>\n",
       "      <td>2.0</td>\n",
       "      <td>BRADLEY</td>\n",
       "      <td>IL</td>\n",
       "      <td>KANK</td>\n",
       "      <td>1/2 Duplex</td>\n",
       "      <td>Detached Single</td>\n",
       "      <td>Ranch</td>\n",
       "      <td>Detached</td>\n",
       "      <td>SINGL</td>\n",
       "      <td>60915</td>\n",
       "    </tr>\n",
       "    <tr>\n",
       "      <th>791</th>\n",
       "      <td>104000.0</td>\n",
       "      <td>1400.0</td>\n",
       "      <td>1400.0</td>\n",
       "      <td>2.0</td>\n",
       "      <td>KANKAKEE</td>\n",
       "      <td>IL</td>\n",
       "      <td>KANK</td>\n",
       "      <td>1/2 Duplex</td>\n",
       "      <td>Detached Single</td>\n",
       "      <td>Ranch</td>\n",
       "      <td>Detached</td>\n",
       "      <td>SINGL</td>\n",
       "      <td>60901</td>\n",
       "    </tr>\n",
       "    <tr>\n",
       "      <th>936</th>\n",
       "      <td>259000.0</td>\n",
       "      <td>1800.0</td>\n",
       "      <td>2850.0</td>\n",
       "      <td>2.0</td>\n",
       "      <td>MANTENO</td>\n",
       "      <td>IL</td>\n",
       "      <td>KANK</td>\n",
       "      <td>1/2 Duplex</td>\n",
       "      <td>Detached Single</td>\n",
       "      <td>Traditional</td>\n",
       "      <td>Detached</td>\n",
       "      <td>SINGL</td>\n",
       "      <td>60950</td>\n",
       "    </tr>\n",
       "  </tbody>\n",
       "</table>\n",
       "</div>"
      ],
      "text/plain": [
       "     sold_price  above_grade_square_feet  finished_square_feet  baths  \\\n",
       "675    260000.0                   1788.0                1788.0    2.0   \n",
       "749    299900.0                   2171.0                2171.0    3.0   \n",
       "757    160000.0                   1656.0                1656.0    2.0   \n",
       "791    104000.0                   1400.0                1400.0    2.0   \n",
       "936    259000.0                   1800.0                2850.0    2.0   \n",
       "\n",
       "            city state county structural_style    property_type architecture  \\\n",
       "675      MOMENCE    IL   KANK          Cluster  Detached Single    Tri-Level   \n",
       "749  BOURBONNAIS    IL   KANK       1/2 Duplex  Detached Single        Ranch   \n",
       "757      BRADLEY    IL   KANK       1/2 Duplex  Detached Single        Ranch   \n",
       "791     KANKAKEE    IL   KANK       1/2 Duplex  Detached Single        Ranch   \n",
       "936      MANTENO    IL   KANK       1/2 Duplex  Detached Single  Traditional   \n",
       "\n",
       "    structural_type  zoned    zip  \n",
       "675        Detached  AGRIC  60954  \n",
       "749        Detached  SINGL  60914  \n",
       "757        Detached  SINGL  60915  \n",
       "791        Detached  SINGL  60901  \n",
       "936        Detached  SINGL  60950  "
      ]
     },
     "execution_count": 15,
     "metadata": {},
     "output_type": "execute_result"
    }
   ],
   "source": [
    "df.head()"
   ]
  },
  {
   "cell_type": "code",
   "execution_count": 16,
   "metadata": {},
   "outputs": [
    {
     "data": {
      "text/html": [
       "<div>\n",
       "<style scoped>\n",
       "    .dataframe tbody tr th:only-of-type {\n",
       "        vertical-align: middle;\n",
       "    }\n",
       "\n",
       "    .dataframe tbody tr th {\n",
       "        vertical-align: top;\n",
       "    }\n",
       "\n",
       "    .dataframe thead th {\n",
       "        text-align: right;\n",
       "    }\n",
       "</style>\n",
       "<table border=\"1\" class=\"dataframe\">\n",
       "  <thead>\n",
       "    <tr style=\"text-align: right;\">\n",
       "      <th></th>\n",
       "      <th>sold_price</th>\n",
       "      <th>above_grade_square_feet</th>\n",
       "      <th>finished_square_feet</th>\n",
       "      <th>baths</th>\n",
       "      <th>city</th>\n",
       "      <th>state</th>\n",
       "      <th>county</th>\n",
       "      <th>structural_style</th>\n",
       "      <th>property_type</th>\n",
       "      <th>architecture</th>\n",
       "      <th>structural_type</th>\n",
       "      <th>zoned</th>\n",
       "      <th>zip</th>\n",
       "    </tr>\n",
       "  </thead>\n",
       "  <tbody>\n",
       "    <tr>\n",
       "      <th>675</th>\n",
       "      <td>260000.0</td>\n",
       "      <td>1788.0</td>\n",
       "      <td>1788.0</td>\n",
       "      <td>2.0</td>\n",
       "      <td>MOMENCE</td>\n",
       "      <td>IL</td>\n",
       "      <td>KANK</td>\n",
       "      <td>Cluster</td>\n",
       "      <td>Detached Single</td>\n",
       "      <td>Tri-Level</td>\n",
       "      <td>Detached</td>\n",
       "      <td>AGRIC</td>\n",
       "      <td>60954</td>\n",
       "    </tr>\n",
       "    <tr>\n",
       "      <th>749</th>\n",
       "      <td>299900.0</td>\n",
       "      <td>2171.0</td>\n",
       "      <td>2171.0</td>\n",
       "      <td>3.0</td>\n",
       "      <td>BOURBONNAIS</td>\n",
       "      <td>IL</td>\n",
       "      <td>KANK</td>\n",
       "      <td>1/2 Duplex</td>\n",
       "      <td>Detached Single</td>\n",
       "      <td>Ranch</td>\n",
       "      <td>Detached</td>\n",
       "      <td>SINGL</td>\n",
       "      <td>60914</td>\n",
       "    </tr>\n",
       "    <tr>\n",
       "      <th>757</th>\n",
       "      <td>160000.0</td>\n",
       "      <td>1656.0</td>\n",
       "      <td>1656.0</td>\n",
       "      <td>2.0</td>\n",
       "      <td>BRADLEY</td>\n",
       "      <td>IL</td>\n",
       "      <td>KANK</td>\n",
       "      <td>1/2 Duplex</td>\n",
       "      <td>Detached Single</td>\n",
       "      <td>Ranch</td>\n",
       "      <td>Detached</td>\n",
       "      <td>SINGL</td>\n",
       "      <td>60915</td>\n",
       "    </tr>\n",
       "    <tr>\n",
       "      <th>791</th>\n",
       "      <td>104000.0</td>\n",
       "      <td>1400.0</td>\n",
       "      <td>1400.0</td>\n",
       "      <td>2.0</td>\n",
       "      <td>KANKAKEE</td>\n",
       "      <td>IL</td>\n",
       "      <td>KANK</td>\n",
       "      <td>1/2 Duplex</td>\n",
       "      <td>Detached Single</td>\n",
       "      <td>Ranch</td>\n",
       "      <td>Detached</td>\n",
       "      <td>SINGL</td>\n",
       "      <td>60901</td>\n",
       "    </tr>\n",
       "    <tr>\n",
       "      <th>936</th>\n",
       "      <td>259000.0</td>\n",
       "      <td>1800.0</td>\n",
       "      <td>2850.0</td>\n",
       "      <td>2.0</td>\n",
       "      <td>MANTENO</td>\n",
       "      <td>IL</td>\n",
       "      <td>KANK</td>\n",
       "      <td>1/2 Duplex</td>\n",
       "      <td>Detached Single</td>\n",
       "      <td>Traditional</td>\n",
       "      <td>Detached</td>\n",
       "      <td>SINGL</td>\n",
       "      <td>60950</td>\n",
       "    </tr>\n",
       "    <tr>\n",
       "      <th>...</th>\n",
       "      <td>...</td>\n",
       "      <td>...</td>\n",
       "      <td>...</td>\n",
       "      <td>...</td>\n",
       "      <td>...</td>\n",
       "      <td>...</td>\n",
       "      <td>...</td>\n",
       "      <td>...</td>\n",
       "      <td>...</td>\n",
       "      <td>...</td>\n",
       "      <td>...</td>\n",
       "      <td>...</td>\n",
       "      <td>...</td>\n",
       "    </tr>\n",
       "    <tr>\n",
       "      <th>1674580</th>\n",
       "      <td>78000.0</td>\n",
       "      <td>858.0</td>\n",
       "      <td>858.0</td>\n",
       "      <td>1.0</td>\n",
       "      <td>Odell</td>\n",
       "      <td>IL</td>\n",
       "      <td>LVNG</td>\n",
       "      <td>1/2 Duplex</td>\n",
       "      <td>Detached Single</td>\n",
       "      <td>Traditional</td>\n",
       "      <td>Detached</td>\n",
       "      <td>SINGL</td>\n",
       "      <td>60460</td>\n",
       "    </tr>\n",
       "    <tr>\n",
       "      <th>1676509</th>\n",
       "      <td>192000.0</td>\n",
       "      <td>1524.0</td>\n",
       "      <td>1524.0</td>\n",
       "      <td>2.0</td>\n",
       "      <td>Kankakee</td>\n",
       "      <td>IL</td>\n",
       "      <td>KANK</td>\n",
       "      <td>1/2 Duplex</td>\n",
       "      <td>Detached Single</td>\n",
       "      <td>Ranch</td>\n",
       "      <td>Detached</td>\n",
       "      <td>SINGL</td>\n",
       "      <td>60901</td>\n",
       "    </tr>\n",
       "    <tr>\n",
       "      <th>1683911</th>\n",
       "      <td>187500.0</td>\n",
       "      <td>1457.0</td>\n",
       "      <td>1457.0</td>\n",
       "      <td>1.0</td>\n",
       "      <td>Kankakee</td>\n",
       "      <td>IL</td>\n",
       "      <td>KANK</td>\n",
       "      <td>1/2 Duplex</td>\n",
       "      <td>Detached Single</td>\n",
       "      <td>Contemporary</td>\n",
       "      <td>Detached</td>\n",
       "      <td>SINGL</td>\n",
       "      <td>60901</td>\n",
       "    </tr>\n",
       "    <tr>\n",
       "      <th>1684238</th>\n",
       "      <td>160000.0</td>\n",
       "      <td>1688.0</td>\n",
       "      <td>1688.0</td>\n",
       "      <td>2.0</td>\n",
       "      <td>Hoopeston</td>\n",
       "      <td>IL</td>\n",
       "      <td>VERMIL</td>\n",
       "      <td>1/2 Duplex</td>\n",
       "      <td>Detached Single</td>\n",
       "      <td>Ranch</td>\n",
       "      <td>Detached</td>\n",
       "      <td>SINGL</td>\n",
       "      <td>60942</td>\n",
       "    </tr>\n",
       "    <tr>\n",
       "      <th>1694462</th>\n",
       "      <td>40500.0</td>\n",
       "      <td>1600.0</td>\n",
       "      <td>1600.0</td>\n",
       "      <td>1.0</td>\n",
       "      <td>WELLINGTON</td>\n",
       "      <td>IL</td>\n",
       "      <td>IROQ</td>\n",
       "      <td>Cluster</td>\n",
       "      <td>Detached Single</td>\n",
       "      <td>Cape Cod</td>\n",
       "      <td>Detached</td>\n",
       "      <td>SINGL</td>\n",
       "      <td>60973</td>\n",
       "    </tr>\n",
       "  </tbody>\n",
       "</table>\n",
       "<p>6385 rows × 13 columns</p>\n",
       "</div>"
      ],
      "text/plain": [
       "         sold_price  above_grade_square_feet  finished_square_feet  baths  \\\n",
       "675        260000.0                   1788.0                1788.0    2.0   \n",
       "749        299900.0                   2171.0                2171.0    3.0   \n",
       "757        160000.0                   1656.0                1656.0    2.0   \n",
       "791        104000.0                   1400.0                1400.0    2.0   \n",
       "936        259000.0                   1800.0                2850.0    2.0   \n",
       "...             ...                      ...                   ...    ...   \n",
       "1674580     78000.0                    858.0                 858.0    1.0   \n",
       "1676509    192000.0                   1524.0                1524.0    2.0   \n",
       "1683911    187500.0                   1457.0                1457.0    1.0   \n",
       "1684238    160000.0                   1688.0                1688.0    2.0   \n",
       "1694462     40500.0                   1600.0                1600.0    1.0   \n",
       "\n",
       "                city state  county structural_style    property_type  \\\n",
       "675          MOMENCE    IL    KANK          Cluster  Detached Single   \n",
       "749      BOURBONNAIS    IL    KANK       1/2 Duplex  Detached Single   \n",
       "757          BRADLEY    IL    KANK       1/2 Duplex  Detached Single   \n",
       "791         KANKAKEE    IL    KANK       1/2 Duplex  Detached Single   \n",
       "936          MANTENO    IL    KANK       1/2 Duplex  Detached Single   \n",
       "...              ...   ...     ...              ...              ...   \n",
       "1674580        Odell    IL    LVNG       1/2 Duplex  Detached Single   \n",
       "1676509     Kankakee    IL    KANK       1/2 Duplex  Detached Single   \n",
       "1683911     Kankakee    IL    KANK       1/2 Duplex  Detached Single   \n",
       "1684238    Hoopeston    IL  VERMIL       1/2 Duplex  Detached Single   \n",
       "1694462   WELLINGTON    IL    IROQ          Cluster  Detached Single   \n",
       "\n",
       "         architecture structural_type  zoned    zip  \n",
       "675         Tri-Level        Detached  AGRIC  60954  \n",
       "749             Ranch        Detached  SINGL  60914  \n",
       "757             Ranch        Detached  SINGL  60915  \n",
       "791             Ranch        Detached  SINGL  60901  \n",
       "936       Traditional        Detached  SINGL  60950  \n",
       "...               ...             ...    ...    ...  \n",
       "1674580   Traditional        Detached  SINGL  60460  \n",
       "1676509         Ranch        Detached  SINGL  60901  \n",
       "1683911  Contemporary        Detached  SINGL  60901  \n",
       "1684238         Ranch        Detached  SINGL  60942  \n",
       "1694462      Cape Cod        Detached  SINGL  60973  \n",
       "\n",
       "[6385 rows x 13 columns]"
      ]
     },
     "execution_count": 16,
     "metadata": {},
     "output_type": "execute_result"
    }
   ],
   "source": [
    "df"
   ]
  },
  {
   "cell_type": "code",
   "execution_count": 17,
   "metadata": {},
   "outputs": [
    {
     "data": {
      "text/html": [
       "<div>\n",
       "<style scoped>\n",
       "    .dataframe tbody tr th:only-of-type {\n",
       "        vertical-align: middle;\n",
       "    }\n",
       "\n",
       "    .dataframe tbody tr th {\n",
       "        vertical-align: top;\n",
       "    }\n",
       "\n",
       "    .dataframe thead th {\n",
       "        text-align: right;\n",
       "    }\n",
       "</style>\n",
       "<table border=\"1\" class=\"dataframe\">\n",
       "  <thead>\n",
       "    <tr style=\"text-align: right;\">\n",
       "      <th></th>\n",
       "      <th>sold_price</th>\n",
       "      <th>above_grade_square_feet</th>\n",
       "      <th>finished_square_feet</th>\n",
       "      <th>baths</th>\n",
       "      <th>zip</th>\n",
       "    </tr>\n",
       "  </thead>\n",
       "  <tbody>\n",
       "    <tr>\n",
       "      <th>count</th>\n",
       "      <td>6385.000000</td>\n",
       "      <td>6385.000000</td>\n",
       "      <td>6385.000000</td>\n",
       "      <td>6385.000000</td>\n",
       "      <td>6385.000000</td>\n",
       "    </tr>\n",
       "    <tr>\n",
       "      <th>mean</th>\n",
       "      <td>148269.132968</td>\n",
       "      <td>1663.579327</td>\n",
       "      <td>1737.972749</td>\n",
       "      <td>1.673297</td>\n",
       "      <td>61042.896946</td>\n",
       "    </tr>\n",
       "    <tr>\n",
       "      <th>std</th>\n",
       "      <td>83499.741498</td>\n",
       "      <td>632.019369</td>\n",
       "      <td>717.217652</td>\n",
       "      <td>0.784453</td>\n",
       "      <td>492.130786</td>\n",
       "    </tr>\n",
       "    <tr>\n",
       "      <th>min</th>\n",
       "      <td>3500.000000</td>\n",
       "      <td>0.000000</td>\n",
       "      <td>0.000000</td>\n",
       "      <td>0.000000</td>\n",
       "      <td>31739.000000</td>\n",
       "    </tr>\n",
       "    <tr>\n",
       "      <th>25%</th>\n",
       "      <td>90000.000000</td>\n",
       "      <td>1245.000000</td>\n",
       "      <td>1262.000000</td>\n",
       "      <td>1.000000</td>\n",
       "      <td>60913.000000</td>\n",
       "    </tr>\n",
       "    <tr>\n",
       "      <th>50%</th>\n",
       "      <td>135000.000000</td>\n",
       "      <td>1561.000000</td>\n",
       "      <td>1600.000000</td>\n",
       "      <td>2.000000</td>\n",
       "      <td>60915.000000</td>\n",
       "    </tr>\n",
       "    <tr>\n",
       "      <th>75%</th>\n",
       "      <td>188000.000000</td>\n",
       "      <td>1944.000000</td>\n",
       "      <td>2020.000000</td>\n",
       "      <td>2.000000</td>\n",
       "      <td>60959.000000</td>\n",
       "    </tr>\n",
       "    <tr>\n",
       "      <th>max</th>\n",
       "      <td>830000.000000</td>\n",
       "      <td>10400.000000</td>\n",
       "      <td>10400.000000</td>\n",
       "      <td>25.000000</td>\n",
       "      <td>61883.000000</td>\n",
       "    </tr>\n",
       "  </tbody>\n",
       "</table>\n",
       "</div>"
      ],
      "text/plain": [
       "          sold_price  above_grade_square_feet  finished_square_feet  \\\n",
       "count    6385.000000              6385.000000           6385.000000   \n",
       "mean   148269.132968              1663.579327           1737.972749   \n",
       "std     83499.741498               632.019369            717.217652   \n",
       "min      3500.000000                 0.000000              0.000000   \n",
       "25%     90000.000000              1245.000000           1262.000000   \n",
       "50%    135000.000000              1561.000000           1600.000000   \n",
       "75%    188000.000000              1944.000000           2020.000000   \n",
       "max    830000.000000             10400.000000          10400.000000   \n",
       "\n",
       "             baths           zip  \n",
       "count  6385.000000   6385.000000  \n",
       "mean      1.673297  61042.896946  \n",
       "std       0.784453    492.130786  \n",
       "min       0.000000  31739.000000  \n",
       "25%       1.000000  60913.000000  \n",
       "50%       2.000000  60915.000000  \n",
       "75%       2.000000  60959.000000  \n",
       "max      25.000000  61883.000000  "
      ]
     },
     "execution_count": 17,
     "metadata": {},
     "output_type": "execute_result"
    }
   ],
   "source": [
    "df.describe()"
   ]
  },
  {
   "cell_type": "code",
   "execution_count": null,
   "metadata": {},
   "outputs": [],
   "source": []
  },
  {
   "cell_type": "code",
   "execution_count": 18,
   "metadata": {},
   "outputs": [
    {
     "name": "stdout",
     "output_type": "stream",
     "text": [
      "Missing Values by Column\n",
      "------------------------------\n",
      "sold_price                 0\n",
      "above_grade_square_feet    0\n",
      "finished_square_feet       0\n",
      "baths                      0\n",
      "city                       0\n",
      "state                      0\n",
      "county                     0\n",
      "structural_style           0\n",
      "property_type              0\n",
      "architecture               0\n",
      "structural_type            0\n",
      "zoned                      0\n",
      "zip                        0\n",
      "dtype: int64\n",
      "------------------------------\n",
      "TOTAL MISSING VALUES: 0\n"
     ]
    }
   ],
   "source": [
    "print(\"Missing Values by Column\")\n",
    "print(\"-\"*30)\n",
    "print(df.isna().sum())\n",
    "print(\"-\"*30)\n",
    "print(\"TOTAL MISSING VALUES:\",df.isna().sum().sum())"
   ]
  },
  {
   "cell_type": "code",
   "execution_count": 19,
   "metadata": {},
   "outputs": [],
   "source": [
    "X = df.drop(\"sold_price\", axis=1)\n",
    "y = df[\"sold_price\"]"
   ]
  },
  {
   "cell_type": "code",
   "execution_count": 20,
   "metadata": {},
   "outputs": [
    {
     "data": {
      "text/html": [
       "<div>\n",
       "<style scoped>\n",
       "    .dataframe tbody tr th:only-of-type {\n",
       "        vertical-align: middle;\n",
       "    }\n",
       "\n",
       "    .dataframe tbody tr th {\n",
       "        vertical-align: top;\n",
       "    }\n",
       "\n",
       "    .dataframe thead th {\n",
       "        text-align: right;\n",
       "    }\n",
       "</style>\n",
       "<table border=\"1\" class=\"dataframe\">\n",
       "  <thead>\n",
       "    <tr style=\"text-align: right;\">\n",
       "      <th></th>\n",
       "      <th>above_grade_square_feet</th>\n",
       "      <th>finished_square_feet</th>\n",
       "      <th>baths</th>\n",
       "      <th>city</th>\n",
       "      <th>state</th>\n",
       "      <th>county</th>\n",
       "      <th>structural_style</th>\n",
       "      <th>property_type</th>\n",
       "      <th>architecture</th>\n",
       "      <th>structural_type</th>\n",
       "      <th>zoned</th>\n",
       "      <th>zip</th>\n",
       "    </tr>\n",
       "  </thead>\n",
       "  <tbody>\n",
       "    <tr>\n",
       "      <th>675</th>\n",
       "      <td>1788.0</td>\n",
       "      <td>1788.0</td>\n",
       "      <td>2.0</td>\n",
       "      <td>MOMENCE</td>\n",
       "      <td>IL</td>\n",
       "      <td>KANK</td>\n",
       "      <td>Cluster</td>\n",
       "      <td>Detached Single</td>\n",
       "      <td>Tri-Level</td>\n",
       "      <td>Detached</td>\n",
       "      <td>AGRIC</td>\n",
       "      <td>60954</td>\n",
       "    </tr>\n",
       "    <tr>\n",
       "      <th>749</th>\n",
       "      <td>2171.0</td>\n",
       "      <td>2171.0</td>\n",
       "      <td>3.0</td>\n",
       "      <td>BOURBONNAIS</td>\n",
       "      <td>IL</td>\n",
       "      <td>KANK</td>\n",
       "      <td>1/2 Duplex</td>\n",
       "      <td>Detached Single</td>\n",
       "      <td>Ranch</td>\n",
       "      <td>Detached</td>\n",
       "      <td>SINGL</td>\n",
       "      <td>60914</td>\n",
       "    </tr>\n",
       "    <tr>\n",
       "      <th>757</th>\n",
       "      <td>1656.0</td>\n",
       "      <td>1656.0</td>\n",
       "      <td>2.0</td>\n",
       "      <td>BRADLEY</td>\n",
       "      <td>IL</td>\n",
       "      <td>KANK</td>\n",
       "      <td>1/2 Duplex</td>\n",
       "      <td>Detached Single</td>\n",
       "      <td>Ranch</td>\n",
       "      <td>Detached</td>\n",
       "      <td>SINGL</td>\n",
       "      <td>60915</td>\n",
       "    </tr>\n",
       "    <tr>\n",
       "      <th>791</th>\n",
       "      <td>1400.0</td>\n",
       "      <td>1400.0</td>\n",
       "      <td>2.0</td>\n",
       "      <td>KANKAKEE</td>\n",
       "      <td>IL</td>\n",
       "      <td>KANK</td>\n",
       "      <td>1/2 Duplex</td>\n",
       "      <td>Detached Single</td>\n",
       "      <td>Ranch</td>\n",
       "      <td>Detached</td>\n",
       "      <td>SINGL</td>\n",
       "      <td>60901</td>\n",
       "    </tr>\n",
       "    <tr>\n",
       "      <th>936</th>\n",
       "      <td>1800.0</td>\n",
       "      <td>2850.0</td>\n",
       "      <td>2.0</td>\n",
       "      <td>MANTENO</td>\n",
       "      <td>IL</td>\n",
       "      <td>KANK</td>\n",
       "      <td>1/2 Duplex</td>\n",
       "      <td>Detached Single</td>\n",
       "      <td>Traditional</td>\n",
       "      <td>Detached</td>\n",
       "      <td>SINGL</td>\n",
       "      <td>60950</td>\n",
       "    </tr>\n",
       "    <tr>\n",
       "      <th>...</th>\n",
       "      <td>...</td>\n",
       "      <td>...</td>\n",
       "      <td>...</td>\n",
       "      <td>...</td>\n",
       "      <td>...</td>\n",
       "      <td>...</td>\n",
       "      <td>...</td>\n",
       "      <td>...</td>\n",
       "      <td>...</td>\n",
       "      <td>...</td>\n",
       "      <td>...</td>\n",
       "      <td>...</td>\n",
       "    </tr>\n",
       "    <tr>\n",
       "      <th>1674580</th>\n",
       "      <td>858.0</td>\n",
       "      <td>858.0</td>\n",
       "      <td>1.0</td>\n",
       "      <td>Odell</td>\n",
       "      <td>IL</td>\n",
       "      <td>LVNG</td>\n",
       "      <td>1/2 Duplex</td>\n",
       "      <td>Detached Single</td>\n",
       "      <td>Traditional</td>\n",
       "      <td>Detached</td>\n",
       "      <td>SINGL</td>\n",
       "      <td>60460</td>\n",
       "    </tr>\n",
       "    <tr>\n",
       "      <th>1676509</th>\n",
       "      <td>1524.0</td>\n",
       "      <td>1524.0</td>\n",
       "      <td>2.0</td>\n",
       "      <td>Kankakee</td>\n",
       "      <td>IL</td>\n",
       "      <td>KANK</td>\n",
       "      <td>1/2 Duplex</td>\n",
       "      <td>Detached Single</td>\n",
       "      <td>Ranch</td>\n",
       "      <td>Detached</td>\n",
       "      <td>SINGL</td>\n",
       "      <td>60901</td>\n",
       "    </tr>\n",
       "    <tr>\n",
       "      <th>1683911</th>\n",
       "      <td>1457.0</td>\n",
       "      <td>1457.0</td>\n",
       "      <td>1.0</td>\n",
       "      <td>Kankakee</td>\n",
       "      <td>IL</td>\n",
       "      <td>KANK</td>\n",
       "      <td>1/2 Duplex</td>\n",
       "      <td>Detached Single</td>\n",
       "      <td>Contemporary</td>\n",
       "      <td>Detached</td>\n",
       "      <td>SINGL</td>\n",
       "      <td>60901</td>\n",
       "    </tr>\n",
       "    <tr>\n",
       "      <th>1684238</th>\n",
       "      <td>1688.0</td>\n",
       "      <td>1688.0</td>\n",
       "      <td>2.0</td>\n",
       "      <td>Hoopeston</td>\n",
       "      <td>IL</td>\n",
       "      <td>VERMIL</td>\n",
       "      <td>1/2 Duplex</td>\n",
       "      <td>Detached Single</td>\n",
       "      <td>Ranch</td>\n",
       "      <td>Detached</td>\n",
       "      <td>SINGL</td>\n",
       "      <td>60942</td>\n",
       "    </tr>\n",
       "    <tr>\n",
       "      <th>1694462</th>\n",
       "      <td>1600.0</td>\n",
       "      <td>1600.0</td>\n",
       "      <td>1.0</td>\n",
       "      <td>WELLINGTON</td>\n",
       "      <td>IL</td>\n",
       "      <td>IROQ</td>\n",
       "      <td>Cluster</td>\n",
       "      <td>Detached Single</td>\n",
       "      <td>Cape Cod</td>\n",
       "      <td>Detached</td>\n",
       "      <td>SINGL</td>\n",
       "      <td>60973</td>\n",
       "    </tr>\n",
       "  </tbody>\n",
       "</table>\n",
       "<p>6385 rows × 12 columns</p>\n",
       "</div>"
      ],
      "text/plain": [
       "         above_grade_square_feet  finished_square_feet  baths         city  \\\n",
       "675                       1788.0                1788.0    2.0      MOMENCE   \n",
       "749                       2171.0                2171.0    3.0  BOURBONNAIS   \n",
       "757                       1656.0                1656.0    2.0      BRADLEY   \n",
       "791                       1400.0                1400.0    2.0     KANKAKEE   \n",
       "936                       1800.0                2850.0    2.0      MANTENO   \n",
       "...                          ...                   ...    ...          ...   \n",
       "1674580                    858.0                 858.0    1.0        Odell   \n",
       "1676509                   1524.0                1524.0    2.0     Kankakee   \n",
       "1683911                   1457.0                1457.0    1.0     Kankakee   \n",
       "1684238                   1688.0                1688.0    2.0    Hoopeston   \n",
       "1694462                   1600.0                1600.0    1.0   WELLINGTON   \n",
       "\n",
       "        state  county structural_style    property_type  architecture  \\\n",
       "675        IL    KANK          Cluster  Detached Single     Tri-Level   \n",
       "749        IL    KANK       1/2 Duplex  Detached Single         Ranch   \n",
       "757        IL    KANK       1/2 Duplex  Detached Single         Ranch   \n",
       "791        IL    KANK       1/2 Duplex  Detached Single         Ranch   \n",
       "936        IL    KANK       1/2 Duplex  Detached Single   Traditional   \n",
       "...       ...     ...              ...              ...           ...   \n",
       "1674580    IL    LVNG       1/2 Duplex  Detached Single   Traditional   \n",
       "1676509    IL    KANK       1/2 Duplex  Detached Single         Ranch   \n",
       "1683911    IL    KANK       1/2 Duplex  Detached Single  Contemporary   \n",
       "1684238    IL  VERMIL       1/2 Duplex  Detached Single         Ranch   \n",
       "1694462    IL    IROQ          Cluster  Detached Single      Cape Cod   \n",
       "\n",
       "        structural_type  zoned    zip  \n",
       "675            Detached  AGRIC  60954  \n",
       "749            Detached  SINGL  60914  \n",
       "757            Detached  SINGL  60915  \n",
       "791            Detached  SINGL  60901  \n",
       "936            Detached  SINGL  60950  \n",
       "...                 ...    ...    ...  \n",
       "1674580        Detached  SINGL  60460  \n",
       "1676509        Detached  SINGL  60901  \n",
       "1683911        Detached  SINGL  60901  \n",
       "1684238        Detached  SINGL  60942  \n",
       "1694462        Detached  SINGL  60973  \n",
       "\n",
       "[6385 rows x 12 columns]"
      ]
     },
     "execution_count": 20,
     "metadata": {},
     "output_type": "execute_result"
    }
   ],
   "source": [
    "X"
   ]
  },
  {
   "cell_type": "markdown",
   "metadata": {},
   "source": [
    "# One-Hot Encoding"
   ]
  },
  {
   "cell_type": "markdown",
   "metadata": {},
   "source": [
    "Encoding the categorical features in X dataset by using One-Hot Encoding method"
   ]
  },
  {
   "cell_type": "code",
   "execution_count": 21,
   "metadata": {},
   "outputs": [],
   "source": [
    "X = pd.get_dummies(X, columns=cat_cols)"
   ]
  },
  {
   "cell_type": "markdown",
   "metadata": {},
   "source": [
    "# Standardizing the Data"
   ]
  },
  {
   "cell_type": "code",
   "execution_count": 22,
   "metadata": {},
   "outputs": [],
   "source": [
    "important_num_cols.remove(\"sold_price\")\n",
    "\n",
    "scaler = StandardScaler()\n",
    "X[important_num_cols] = scaler.fit_transform(X[important_num_cols])"
   ]
  },
  {
   "cell_type": "markdown",
   "metadata": {},
   "source": [
    "# Train-Test Split"
   ]
  },
  {
   "cell_type": "markdown",
   "metadata": {},
   "source": [
    "Splitting the data into Train and Test chunks for better evaluation"
   ]
  },
  {
   "cell_type": "code",
   "execution_count": 23,
   "metadata": {},
   "outputs": [],
   "source": [
    "X_train, X_test, y_train, y_test = train_test_split(X, y, test_size=0.2, random_state=42)"
   ]
  },
  {
   "cell_type": "markdown",
   "metadata": {},
   "source": [
    "Defining several evaluation functions for convenience"
   ]
  },
  {
   "cell_type": "code",
   "execution_count": 24,
   "metadata": {},
   "outputs": [],
   "source": [
    "def rmse_cv(model):\n",
    "    rmse = np.sqrt(-cross_val_score(model, X, y, scoring=\"neg_mean_squared_error\", cv=5)).mean()\n",
    "    return rmse\n",
    "    \n",
    "\n",
    "def evaluation(y, predictions):\n",
    "    mae = mean_absolute_error(y, predictions)\n",
    "    mse = mean_squared_error(y, predictions)\n",
    "    rmse = np.sqrt(mean_squared_error(y, predictions))\n",
    "    r_squared = r2_score(y, predictions)\n",
    "    return mae, mse, rmse, r_squared"
   ]
  },
  {
   "cell_type": "markdown",
   "metadata": {},
   "source": [
    "# Machine Learning Models"
   ]
  },
  {
   "cell_type": "code",
   "execution_count": 25,
   "metadata": {},
   "outputs": [],
   "source": [
    "models = pd.DataFrame(columns=[\"Model\",\"MAE\",\"MSE\",\"RMSE\",\"R2 Score\",\"RMSE (Cross-Validation)\"])"
   ]
  },
  {
   "cell_type": "markdown",
   "metadata": {},
   "source": [
    "## Linear Regression"
   ]
  },
  {
   "cell_type": "code",
   "execution_count": 26,
   "metadata": {},
   "outputs": [
    {
     "name": "stdout",
     "output_type": "stream",
     "text": [
      "MAE: 68433152182278.2\n",
      "MSE: 2.338883741113825e+30\n",
      "RMSE: 1529340949923798.0\n",
      "R2 Score: -3.1546364367146235e+20\n",
      "------------------------------\n",
      "RMSE Cross-Validation: 684426756338976.6\n"
     ]
    }
   ],
   "source": [
    "lin_reg = LinearRegression()\n",
    "lin_reg.fit(X_train, y_train)\n",
    "predictions = lin_reg.predict(X_test)\n",
    "\n",
    "mae, mse, rmse, r_squared = evaluation(y_test, predictions)\n",
    "print(\"MAE:\", mae)\n",
    "print(\"MSE:\", mse)\n",
    "print(\"RMSE:\", rmse)\n",
    "print(\"R2 Score:\", r_squared)\n",
    "print(\"-\"*30)\n",
    "rmse_cross_val = rmse_cv(lin_reg)\n",
    "print(\"RMSE Cross-Validation:\", rmse_cross_val)\n",
    "\n",
    "new_row = {\"Model\": \"LinearRegression\",\"MAE\": mae, \"MSE\": mse, \"RMSE\": rmse, \"R2 Score\": r_squared, \"RMSE (Cross-Validation)\": rmse_cross_val}\n",
    "models = models.append(new_row, ignore_index=True)"
   ]
  },
  {
   "cell_type": "markdown",
   "metadata": {},
   "source": [
    "## Ridge Regression"
   ]
  },
  {
   "cell_type": "code",
   "execution_count": 27,
   "metadata": {},
   "outputs": [
    {
     "name": "stdout",
     "output_type": "stream",
     "text": [
      "MAE: 34058.9391379298\n",
      "MSE: 2444389216.1379666\n",
      "RMSE: 49440.76472040018\n",
      "R2 Score: 0.6703060031932621\n",
      "------------------------------\n",
      "RMSE Cross-Validation: 52143.03461226541\n"
     ]
    }
   ],
   "source": [
    "ridge = Ridge()\n",
    "ridge.fit(X_train, y_train)\n",
    "predictions = ridge.predict(X_test)\n",
    "\n",
    "mae, mse, rmse, r_squared = evaluation(y_test, predictions)\n",
    "print(\"MAE:\", mae)\n",
    "print(\"MSE:\", mse)\n",
    "print(\"RMSE:\", rmse)\n",
    "print(\"R2 Score:\", r_squared)\n",
    "print(\"-\"*30)\n",
    "rmse_cross_val = rmse_cv(ridge)\n",
    "print(\"RMSE Cross-Validation:\", rmse_cross_val)\n",
    "\n",
    "new_row = {\"Model\": \"Ridge\",\"MAE\": mae, \"MSE\": mse, \"RMSE\": rmse, \"R2 Score\": r_squared, \"RMSE (Cross-Validation)\": rmse_cross_val}\n",
    "models = models.append(new_row, ignore_index=True)"
   ]
  },
  {
   "cell_type": "markdown",
   "metadata": {},
   "source": [
    "## Lasso Regression"
   ]
  },
  {
   "cell_type": "code",
   "execution_count": 28,
   "metadata": {},
   "outputs": [
    {
     "name": "stdout",
     "output_type": "stream",
     "text": [
      "MAE: 34352.75999237427\n",
      "MSE: 2515447506.518908\n",
      "RMSE: 50154.23717413024\n",
      "R2 Score: 0.6607218127512176\n",
      "------------------------------\n",
      "RMSE Cross-Validation: 52537.3190249967\n"
     ]
    }
   ],
   "source": [
    "lasso = Lasso()\n",
    "lasso.fit(X_train, y_train)\n",
    "predictions = lasso.predict(X_test)\n",
    "\n",
    "mae, mse, rmse, r_squared = evaluation(y_test, predictions)\n",
    "print(\"MAE:\", mae)\n",
    "print(\"MSE:\", mse)\n",
    "print(\"RMSE:\", rmse)\n",
    "print(\"R2 Score:\", r_squared)\n",
    "print(\"-\"*30)\n",
    "rmse_cross_val = rmse_cv(lasso)\n",
    "print(\"RMSE Cross-Validation:\", rmse_cross_val)\n",
    "\n",
    "new_row = {\"Model\": \"Lasso\",\"MAE\": mae, \"MSE\": mse, \"RMSE\": rmse, \"R2 Score\": r_squared, \"RMSE (Cross-Validation)\": rmse_cross_val}\n",
    "models = models.append(new_row, ignore_index=True)"
   ]
  },
  {
   "cell_type": "markdown",
   "metadata": {},
   "source": [
    "## Elastic Net"
   ]
  },
  {
   "cell_type": "code",
   "execution_count": 29,
   "metadata": {},
   "outputs": [
    {
     "name": "stdout",
     "output_type": "stream",
     "text": [
      "MAE: 40650.7111281259\n",
      "MSE: 3417910857.086201\n",
      "RMSE: 58462.90154522098\n",
      "R2 Score: 0.538999483485575\n",
      "------------------------------\n",
      "RMSE Cross-Validation: 58466.06546773311\n"
     ]
    }
   ],
   "source": [
    "elastic_net = ElasticNet()\n",
    "elastic_net.fit(X_train, y_train)\n",
    "predictions = elastic_net.predict(X_test)\n",
    "\n",
    "mae, mse, rmse, r_squared = evaluation(y_test, predictions)\n",
    "print(\"MAE:\", mae)\n",
    "print(\"MSE:\", mse)\n",
    "print(\"RMSE:\", rmse)\n",
    "print(\"R2 Score:\", r_squared)\n",
    "print(\"-\"*30)\n",
    "rmse_cross_val = rmse_cv(elastic_net)\n",
    "print(\"RMSE Cross-Validation:\", rmse_cross_val)\n",
    "\n",
    "new_row = {\"Model\": \"ElasticNet\",\"MAE\": mae, \"MSE\": mse, \"RMSE\": rmse, \"R2 Score\": r_squared, \"RMSE (Cross-Validation)\": rmse_cross_val}\n",
    "models = models.append(new_row, ignore_index=True)"
   ]
  },
  {
   "cell_type": "markdown",
   "metadata": {},
   "source": [
    "## Support Vector Machines"
   ]
  },
  {
   "cell_type": "code",
   "execution_count": 30,
   "metadata": {},
   "outputs": [
    {
     "name": "stdout",
     "output_type": "stream",
     "text": [
      "MAE: 33080.296674150246\n",
      "MSE: 2415413022.659172\n",
      "RMSE: 49146.85160474852\n",
      "R2 Score: 0.6742142502830455\n",
      "------------------------------\n",
      "RMSE Cross-Validation: 50359.785789265574\n"
     ]
    }
   ],
   "source": [
    "svr = SVR(C=100000)\n",
    "svr.fit(X_train, y_train)\n",
    "predictions = svr.predict(X_test)\n",
    "\n",
    "mae, mse, rmse, r_squared = evaluation(y_test, predictions)\n",
    "print(\"MAE:\", mae)\n",
    "print(\"MSE:\", mse)\n",
    "print(\"RMSE:\", rmse)\n",
    "print(\"R2 Score:\", r_squared)\n",
    "print(\"-\"*30)\n",
    "rmse_cross_val = rmse_cv(svr)\n",
    "print(\"RMSE Cross-Validation:\", rmse_cross_val)\n",
    "\n",
    "new_row = {\"Model\": \"SVR\",\"MAE\": mae, \"MSE\": mse, \"RMSE\": rmse, \"R2 Score\": r_squared, \"RMSE (Cross-Validation)\": rmse_cross_val}\n",
    "models = models.append(new_row, ignore_index=True)"
   ]
  },
  {
   "cell_type": "markdown",
   "metadata": {},
   "source": [
    "## Random Forest Regressor"
   ]
  },
  {
   "cell_type": "code",
   "execution_count": 31,
   "metadata": {},
   "outputs": [
    {
     "name": "stdout",
     "output_type": "stream",
     "text": [
      "MAE: 35590.68520319021\n",
      "MSE: 2601736744.7589397\n",
      "RMSE: 51007.22247641935\n",
      "R2 Score: 0.6490833045918201\n",
      "------------------------------\n"
     ]
    },
    {
     "ename": "KeyboardInterrupt",
     "evalue": "",
     "output_type": "error",
     "traceback": [
      "\u001b[0;31m---------------------------------------------------------------------------\u001b[0m",
      "\u001b[0;31mKeyboardInterrupt\u001b[0m                         Traceback (most recent call last)",
      "\u001b[0;32m<ipython-input-31-5968ef1783f5>\u001b[0m in \u001b[0;36m<module>\u001b[0;34m\u001b[0m\n\u001b[1;32m      9\u001b[0m \u001b[0mprint\u001b[0m\u001b[0;34m(\u001b[0m\u001b[0;34m\"R2 Score:\"\u001b[0m\u001b[0;34m,\u001b[0m \u001b[0mr_squared\u001b[0m\u001b[0;34m)\u001b[0m\u001b[0;34m\u001b[0m\u001b[0;34m\u001b[0m\u001b[0m\n\u001b[1;32m     10\u001b[0m \u001b[0mprint\u001b[0m\u001b[0;34m(\u001b[0m\u001b[0;34m\"-\"\u001b[0m\u001b[0;34m*\u001b[0m\u001b[0;36m30\u001b[0m\u001b[0;34m)\u001b[0m\u001b[0;34m\u001b[0m\u001b[0;34m\u001b[0m\u001b[0m\n\u001b[0;32m---> 11\u001b[0;31m \u001b[0mrmse_cross_val\u001b[0m \u001b[0;34m=\u001b[0m \u001b[0mrmse_cv\u001b[0m\u001b[0;34m(\u001b[0m\u001b[0mrandom_forest\u001b[0m\u001b[0;34m)\u001b[0m\u001b[0;34m\u001b[0m\u001b[0;34m\u001b[0m\u001b[0m\n\u001b[0m\u001b[1;32m     12\u001b[0m \u001b[0mprint\u001b[0m\u001b[0;34m(\u001b[0m\u001b[0;34m\"RMSE Cross-Validation:\"\u001b[0m\u001b[0;34m,\u001b[0m \u001b[0mrmse_cross_val\u001b[0m\u001b[0;34m)\u001b[0m\u001b[0;34m\u001b[0m\u001b[0;34m\u001b[0m\u001b[0m\n\u001b[1;32m     13\u001b[0m \u001b[0;34m\u001b[0m\u001b[0m\n",
      "\u001b[0;32m<ipython-input-24-88a9871d835c>\u001b[0m in \u001b[0;36mrmse_cv\u001b[0;34m(model)\u001b[0m\n\u001b[1;32m      1\u001b[0m \u001b[0;32mdef\u001b[0m \u001b[0mrmse_cv\u001b[0m\u001b[0;34m(\u001b[0m\u001b[0mmodel\u001b[0m\u001b[0;34m)\u001b[0m\u001b[0;34m:\u001b[0m\u001b[0;34m\u001b[0m\u001b[0;34m\u001b[0m\u001b[0m\n\u001b[0;32m----> 2\u001b[0;31m     \u001b[0mrmse\u001b[0m \u001b[0;34m=\u001b[0m \u001b[0mnp\u001b[0m\u001b[0;34m.\u001b[0m\u001b[0msqrt\u001b[0m\u001b[0;34m(\u001b[0m\u001b[0;34m-\u001b[0m\u001b[0mcross_val_score\u001b[0m\u001b[0;34m(\u001b[0m\u001b[0mmodel\u001b[0m\u001b[0;34m,\u001b[0m \u001b[0mX\u001b[0m\u001b[0;34m,\u001b[0m \u001b[0my\u001b[0m\u001b[0;34m,\u001b[0m \u001b[0mscoring\u001b[0m\u001b[0;34m=\u001b[0m\u001b[0;34m\"neg_mean_squared_error\"\u001b[0m\u001b[0;34m,\u001b[0m \u001b[0mcv\u001b[0m\u001b[0;34m=\u001b[0m\u001b[0;36m5\u001b[0m\u001b[0;34m)\u001b[0m\u001b[0;34m)\u001b[0m\u001b[0;34m.\u001b[0m\u001b[0mmean\u001b[0m\u001b[0;34m(\u001b[0m\u001b[0;34m)\u001b[0m\u001b[0;34m\u001b[0m\u001b[0;34m\u001b[0m\u001b[0m\n\u001b[0m\u001b[1;32m      3\u001b[0m     \u001b[0;32mreturn\u001b[0m \u001b[0mrmse\u001b[0m\u001b[0;34m\u001b[0m\u001b[0;34m\u001b[0m\u001b[0m\n\u001b[1;32m      4\u001b[0m \u001b[0;34m\u001b[0m\u001b[0m\n\u001b[1;32m      5\u001b[0m \u001b[0;34m\u001b[0m\u001b[0m\n",
      "\u001b[0;32m~/opt/anaconda3/lib/python3.8/site-packages/sklearn/model_selection/_validation.py\u001b[0m in \u001b[0;36mcross_val_score\u001b[0;34m(estimator, X, y, groups, scoring, cv, n_jobs, verbose, fit_params, pre_dispatch, error_score)\u001b[0m\n\u001b[1;32m    507\u001b[0m     \u001b[0mscorer\u001b[0m \u001b[0;34m=\u001b[0m \u001b[0mcheck_scoring\u001b[0m\u001b[0;34m(\u001b[0m\u001b[0mestimator\u001b[0m\u001b[0;34m,\u001b[0m \u001b[0mscoring\u001b[0m\u001b[0;34m=\u001b[0m\u001b[0mscoring\u001b[0m\u001b[0;34m)\u001b[0m\u001b[0;34m\u001b[0m\u001b[0;34m\u001b[0m\u001b[0m\n\u001b[1;32m    508\u001b[0m \u001b[0;34m\u001b[0m\u001b[0m\n\u001b[0;32m--> 509\u001b[0;31m     cv_results = cross_validate(\n\u001b[0m\u001b[1;32m    510\u001b[0m         \u001b[0mestimator\u001b[0m\u001b[0;34m=\u001b[0m\u001b[0mestimator\u001b[0m\u001b[0;34m,\u001b[0m\u001b[0;34m\u001b[0m\u001b[0;34m\u001b[0m\u001b[0m\n\u001b[1;32m    511\u001b[0m         \u001b[0mX\u001b[0m\u001b[0;34m=\u001b[0m\u001b[0mX\u001b[0m\u001b[0;34m,\u001b[0m\u001b[0;34m\u001b[0m\u001b[0;34m\u001b[0m\u001b[0m\n",
      "\u001b[0;32m~/opt/anaconda3/lib/python3.8/site-packages/sklearn/model_selection/_validation.py\u001b[0m in \u001b[0;36mcross_validate\u001b[0;34m(estimator, X, y, groups, scoring, cv, n_jobs, verbose, fit_params, pre_dispatch, return_train_score, return_estimator, error_score)\u001b[0m\n\u001b[1;32m    265\u001b[0m     \u001b[0;31m# independent, and that it is pickle-able.\u001b[0m\u001b[0;34m\u001b[0m\u001b[0;34m\u001b[0m\u001b[0;34m\u001b[0m\u001b[0m\n\u001b[1;32m    266\u001b[0m     \u001b[0mparallel\u001b[0m \u001b[0;34m=\u001b[0m \u001b[0mParallel\u001b[0m\u001b[0;34m(\u001b[0m\u001b[0mn_jobs\u001b[0m\u001b[0;34m=\u001b[0m\u001b[0mn_jobs\u001b[0m\u001b[0;34m,\u001b[0m \u001b[0mverbose\u001b[0m\u001b[0;34m=\u001b[0m\u001b[0mverbose\u001b[0m\u001b[0;34m,\u001b[0m \u001b[0mpre_dispatch\u001b[0m\u001b[0;34m=\u001b[0m\u001b[0mpre_dispatch\u001b[0m\u001b[0;34m)\u001b[0m\u001b[0;34m\u001b[0m\u001b[0;34m\u001b[0m\u001b[0m\n\u001b[0;32m--> 267\u001b[0;31m     results = parallel(\n\u001b[0m\u001b[1;32m    268\u001b[0m         delayed(_fit_and_score)(\n\u001b[1;32m    269\u001b[0m             \u001b[0mclone\u001b[0m\u001b[0;34m(\u001b[0m\u001b[0mestimator\u001b[0m\u001b[0;34m)\u001b[0m\u001b[0;34m,\u001b[0m\u001b[0;34m\u001b[0m\u001b[0;34m\u001b[0m\u001b[0m\n",
      "\u001b[0;32m~/opt/anaconda3/lib/python3.8/site-packages/joblib/parallel.py\u001b[0m in \u001b[0;36m__call__\u001b[0;34m(self, iterable)\u001b[0m\n\u001b[1;32m   1049\u001b[0m                 \u001b[0mself\u001b[0m\u001b[0;34m.\u001b[0m\u001b[0m_iterating\u001b[0m \u001b[0;34m=\u001b[0m \u001b[0mself\u001b[0m\u001b[0;34m.\u001b[0m\u001b[0m_original_iterator\u001b[0m \u001b[0;32mis\u001b[0m \u001b[0;32mnot\u001b[0m \u001b[0;32mNone\u001b[0m\u001b[0;34m\u001b[0m\u001b[0;34m\u001b[0m\u001b[0m\n\u001b[1;32m   1050\u001b[0m \u001b[0;34m\u001b[0m\u001b[0m\n\u001b[0;32m-> 1051\u001b[0;31m             \u001b[0;32mwhile\u001b[0m \u001b[0mself\u001b[0m\u001b[0;34m.\u001b[0m\u001b[0mdispatch_one_batch\u001b[0m\u001b[0;34m(\u001b[0m\u001b[0miterator\u001b[0m\u001b[0;34m)\u001b[0m\u001b[0;34m:\u001b[0m\u001b[0;34m\u001b[0m\u001b[0;34m\u001b[0m\u001b[0m\n\u001b[0m\u001b[1;32m   1052\u001b[0m                 \u001b[0;32mpass\u001b[0m\u001b[0;34m\u001b[0m\u001b[0;34m\u001b[0m\u001b[0m\n\u001b[1;32m   1053\u001b[0m \u001b[0;34m\u001b[0m\u001b[0m\n",
      "\u001b[0;32m~/opt/anaconda3/lib/python3.8/site-packages/joblib/parallel.py\u001b[0m in \u001b[0;36mdispatch_one_batch\u001b[0;34m(self, iterator)\u001b[0m\n\u001b[1;32m    864\u001b[0m                 \u001b[0;32mreturn\u001b[0m \u001b[0;32mFalse\u001b[0m\u001b[0;34m\u001b[0m\u001b[0;34m\u001b[0m\u001b[0m\n\u001b[1;32m    865\u001b[0m             \u001b[0;32melse\u001b[0m\u001b[0;34m:\u001b[0m\u001b[0;34m\u001b[0m\u001b[0;34m\u001b[0m\u001b[0m\n\u001b[0;32m--> 866\u001b[0;31m                 \u001b[0mself\u001b[0m\u001b[0;34m.\u001b[0m\u001b[0m_dispatch\u001b[0m\u001b[0;34m(\u001b[0m\u001b[0mtasks\u001b[0m\u001b[0;34m)\u001b[0m\u001b[0;34m\u001b[0m\u001b[0;34m\u001b[0m\u001b[0m\n\u001b[0m\u001b[1;32m    867\u001b[0m                 \u001b[0;32mreturn\u001b[0m \u001b[0;32mTrue\u001b[0m\u001b[0;34m\u001b[0m\u001b[0;34m\u001b[0m\u001b[0m\n\u001b[1;32m    868\u001b[0m \u001b[0;34m\u001b[0m\u001b[0m\n",
      "\u001b[0;32m~/opt/anaconda3/lib/python3.8/site-packages/joblib/parallel.py\u001b[0m in \u001b[0;36m_dispatch\u001b[0;34m(self, batch)\u001b[0m\n\u001b[1;32m    782\u001b[0m         \u001b[0;32mwith\u001b[0m \u001b[0mself\u001b[0m\u001b[0;34m.\u001b[0m\u001b[0m_lock\u001b[0m\u001b[0;34m:\u001b[0m\u001b[0;34m\u001b[0m\u001b[0;34m\u001b[0m\u001b[0m\n\u001b[1;32m    783\u001b[0m             \u001b[0mjob_idx\u001b[0m \u001b[0;34m=\u001b[0m \u001b[0mlen\u001b[0m\u001b[0;34m(\u001b[0m\u001b[0mself\u001b[0m\u001b[0;34m.\u001b[0m\u001b[0m_jobs\u001b[0m\u001b[0;34m)\u001b[0m\u001b[0;34m\u001b[0m\u001b[0;34m\u001b[0m\u001b[0m\n\u001b[0;32m--> 784\u001b[0;31m             \u001b[0mjob\u001b[0m \u001b[0;34m=\u001b[0m \u001b[0mself\u001b[0m\u001b[0;34m.\u001b[0m\u001b[0m_backend\u001b[0m\u001b[0;34m.\u001b[0m\u001b[0mapply_async\u001b[0m\u001b[0;34m(\u001b[0m\u001b[0mbatch\u001b[0m\u001b[0;34m,\u001b[0m \u001b[0mcallback\u001b[0m\u001b[0;34m=\u001b[0m\u001b[0mcb\u001b[0m\u001b[0;34m)\u001b[0m\u001b[0;34m\u001b[0m\u001b[0;34m\u001b[0m\u001b[0m\n\u001b[0m\u001b[1;32m    785\u001b[0m             \u001b[0;31m# A job can complete so quickly than its callback is\u001b[0m\u001b[0;34m\u001b[0m\u001b[0;34m\u001b[0m\u001b[0;34m\u001b[0m\u001b[0m\n\u001b[1;32m    786\u001b[0m             \u001b[0;31m# called before we get here, causing self._jobs to\u001b[0m\u001b[0;34m\u001b[0m\u001b[0;34m\u001b[0m\u001b[0;34m\u001b[0m\u001b[0m\n",
      "\u001b[0;32m~/opt/anaconda3/lib/python3.8/site-packages/joblib/_parallel_backends.py\u001b[0m in \u001b[0;36mapply_async\u001b[0;34m(self, func, callback)\u001b[0m\n\u001b[1;32m    206\u001b[0m     \u001b[0;32mdef\u001b[0m \u001b[0mapply_async\u001b[0m\u001b[0;34m(\u001b[0m\u001b[0mself\u001b[0m\u001b[0;34m,\u001b[0m \u001b[0mfunc\u001b[0m\u001b[0;34m,\u001b[0m \u001b[0mcallback\u001b[0m\u001b[0;34m=\u001b[0m\u001b[0;32mNone\u001b[0m\u001b[0;34m)\u001b[0m\u001b[0;34m:\u001b[0m\u001b[0;34m\u001b[0m\u001b[0;34m\u001b[0m\u001b[0m\n\u001b[1;32m    207\u001b[0m         \u001b[0;34m\"\"\"Schedule a func to be run\"\"\"\u001b[0m\u001b[0;34m\u001b[0m\u001b[0;34m\u001b[0m\u001b[0m\n\u001b[0;32m--> 208\u001b[0;31m         \u001b[0mresult\u001b[0m \u001b[0;34m=\u001b[0m \u001b[0mImmediateResult\u001b[0m\u001b[0;34m(\u001b[0m\u001b[0mfunc\u001b[0m\u001b[0;34m)\u001b[0m\u001b[0;34m\u001b[0m\u001b[0;34m\u001b[0m\u001b[0m\n\u001b[0m\u001b[1;32m    209\u001b[0m         \u001b[0;32mif\u001b[0m \u001b[0mcallback\u001b[0m\u001b[0;34m:\u001b[0m\u001b[0;34m\u001b[0m\u001b[0;34m\u001b[0m\u001b[0m\n\u001b[1;32m    210\u001b[0m             \u001b[0mcallback\u001b[0m\u001b[0;34m(\u001b[0m\u001b[0mresult\u001b[0m\u001b[0;34m)\u001b[0m\u001b[0;34m\u001b[0m\u001b[0;34m\u001b[0m\u001b[0m\n",
      "\u001b[0;32m~/opt/anaconda3/lib/python3.8/site-packages/joblib/_parallel_backends.py\u001b[0m in \u001b[0;36m__init__\u001b[0;34m(self, batch)\u001b[0m\n\u001b[1;32m    570\u001b[0m         \u001b[0;31m# Don't delay the application, to avoid keeping the input\u001b[0m\u001b[0;34m\u001b[0m\u001b[0;34m\u001b[0m\u001b[0;34m\u001b[0m\u001b[0m\n\u001b[1;32m    571\u001b[0m         \u001b[0;31m# arguments in memory\u001b[0m\u001b[0;34m\u001b[0m\u001b[0;34m\u001b[0m\u001b[0;34m\u001b[0m\u001b[0m\n\u001b[0;32m--> 572\u001b[0;31m         \u001b[0mself\u001b[0m\u001b[0;34m.\u001b[0m\u001b[0mresults\u001b[0m \u001b[0;34m=\u001b[0m \u001b[0mbatch\u001b[0m\u001b[0;34m(\u001b[0m\u001b[0;34m)\u001b[0m\u001b[0;34m\u001b[0m\u001b[0;34m\u001b[0m\u001b[0m\n\u001b[0m\u001b[1;32m    573\u001b[0m \u001b[0;34m\u001b[0m\u001b[0m\n\u001b[1;32m    574\u001b[0m     \u001b[0;32mdef\u001b[0m \u001b[0mget\u001b[0m\u001b[0;34m(\u001b[0m\u001b[0mself\u001b[0m\u001b[0;34m)\u001b[0m\u001b[0;34m:\u001b[0m\u001b[0;34m\u001b[0m\u001b[0;34m\u001b[0m\u001b[0m\n",
      "\u001b[0;32m~/opt/anaconda3/lib/python3.8/site-packages/joblib/parallel.py\u001b[0m in \u001b[0;36m__call__\u001b[0;34m(self)\u001b[0m\n\u001b[1;32m    260\u001b[0m         \u001b[0;31m# change the default number of processes to -1\u001b[0m\u001b[0;34m\u001b[0m\u001b[0;34m\u001b[0m\u001b[0;34m\u001b[0m\u001b[0m\n\u001b[1;32m    261\u001b[0m         \u001b[0;32mwith\u001b[0m \u001b[0mparallel_backend\u001b[0m\u001b[0;34m(\u001b[0m\u001b[0mself\u001b[0m\u001b[0;34m.\u001b[0m\u001b[0m_backend\u001b[0m\u001b[0;34m,\u001b[0m \u001b[0mn_jobs\u001b[0m\u001b[0;34m=\u001b[0m\u001b[0mself\u001b[0m\u001b[0;34m.\u001b[0m\u001b[0m_n_jobs\u001b[0m\u001b[0;34m)\u001b[0m\u001b[0;34m:\u001b[0m\u001b[0;34m\u001b[0m\u001b[0;34m\u001b[0m\u001b[0m\n\u001b[0;32m--> 262\u001b[0;31m             return [func(*args, **kwargs)\n\u001b[0m\u001b[1;32m    263\u001b[0m                     for func, args, kwargs in self.items]\n\u001b[1;32m    264\u001b[0m \u001b[0;34m\u001b[0m\u001b[0m\n",
      "\u001b[0;32m~/opt/anaconda3/lib/python3.8/site-packages/joblib/parallel.py\u001b[0m in \u001b[0;36m<listcomp>\u001b[0;34m(.0)\u001b[0m\n\u001b[1;32m    260\u001b[0m         \u001b[0;31m# change the default number of processes to -1\u001b[0m\u001b[0;34m\u001b[0m\u001b[0;34m\u001b[0m\u001b[0;34m\u001b[0m\u001b[0m\n\u001b[1;32m    261\u001b[0m         \u001b[0;32mwith\u001b[0m \u001b[0mparallel_backend\u001b[0m\u001b[0;34m(\u001b[0m\u001b[0mself\u001b[0m\u001b[0;34m.\u001b[0m\u001b[0m_backend\u001b[0m\u001b[0;34m,\u001b[0m \u001b[0mn_jobs\u001b[0m\u001b[0;34m=\u001b[0m\u001b[0mself\u001b[0m\u001b[0;34m.\u001b[0m\u001b[0m_n_jobs\u001b[0m\u001b[0;34m)\u001b[0m\u001b[0;34m:\u001b[0m\u001b[0;34m\u001b[0m\u001b[0;34m\u001b[0m\u001b[0m\n\u001b[0;32m--> 262\u001b[0;31m             return [func(*args, **kwargs)\n\u001b[0m\u001b[1;32m    263\u001b[0m                     for func, args, kwargs in self.items]\n\u001b[1;32m    264\u001b[0m \u001b[0;34m\u001b[0m\u001b[0m\n",
      "\u001b[0;32m~/opt/anaconda3/lib/python3.8/site-packages/sklearn/utils/fixes.py\u001b[0m in \u001b[0;36m__call__\u001b[0;34m(self, *args, **kwargs)\u001b[0m\n\u001b[1;32m    214\u001b[0m     \u001b[0;32mdef\u001b[0m \u001b[0m__call__\u001b[0m\u001b[0;34m(\u001b[0m\u001b[0mself\u001b[0m\u001b[0;34m,\u001b[0m \u001b[0;34m*\u001b[0m\u001b[0margs\u001b[0m\u001b[0;34m,\u001b[0m \u001b[0;34m**\u001b[0m\u001b[0mkwargs\u001b[0m\u001b[0;34m)\u001b[0m\u001b[0;34m:\u001b[0m\u001b[0;34m\u001b[0m\u001b[0;34m\u001b[0m\u001b[0m\n\u001b[1;32m    215\u001b[0m         \u001b[0;32mwith\u001b[0m \u001b[0mconfig_context\u001b[0m\u001b[0;34m(\u001b[0m\u001b[0;34m**\u001b[0m\u001b[0mself\u001b[0m\u001b[0;34m.\u001b[0m\u001b[0mconfig\u001b[0m\u001b[0;34m)\u001b[0m\u001b[0;34m:\u001b[0m\u001b[0;34m\u001b[0m\u001b[0;34m\u001b[0m\u001b[0m\n\u001b[0;32m--> 216\u001b[0;31m             \u001b[0;32mreturn\u001b[0m \u001b[0mself\u001b[0m\u001b[0;34m.\u001b[0m\u001b[0mfunction\u001b[0m\u001b[0;34m(\u001b[0m\u001b[0;34m*\u001b[0m\u001b[0margs\u001b[0m\u001b[0;34m,\u001b[0m \u001b[0;34m**\u001b[0m\u001b[0mkwargs\u001b[0m\u001b[0;34m)\u001b[0m\u001b[0;34m\u001b[0m\u001b[0;34m\u001b[0m\u001b[0m\n\u001b[0m\u001b[1;32m    217\u001b[0m \u001b[0;34m\u001b[0m\u001b[0m\n\u001b[1;32m    218\u001b[0m \u001b[0;34m\u001b[0m\u001b[0m\n",
      "\u001b[0;32m~/opt/anaconda3/lib/python3.8/site-packages/sklearn/model_selection/_validation.py\u001b[0m in \u001b[0;36m_fit_and_score\u001b[0;34m(estimator, X, y, scorer, train, test, verbose, parameters, fit_params, return_train_score, return_parameters, return_n_test_samples, return_times, return_estimator, split_progress, candidate_progress, error_score)\u001b[0m\n\u001b[1;32m    678\u001b[0m             \u001b[0mestimator\u001b[0m\u001b[0;34m.\u001b[0m\u001b[0mfit\u001b[0m\u001b[0;34m(\u001b[0m\u001b[0mX_train\u001b[0m\u001b[0;34m,\u001b[0m \u001b[0;34m**\u001b[0m\u001b[0mfit_params\u001b[0m\u001b[0;34m)\u001b[0m\u001b[0;34m\u001b[0m\u001b[0;34m\u001b[0m\u001b[0m\n\u001b[1;32m    679\u001b[0m         \u001b[0;32melse\u001b[0m\u001b[0;34m:\u001b[0m\u001b[0;34m\u001b[0m\u001b[0;34m\u001b[0m\u001b[0m\n\u001b[0;32m--> 680\u001b[0;31m             \u001b[0mestimator\u001b[0m\u001b[0;34m.\u001b[0m\u001b[0mfit\u001b[0m\u001b[0;34m(\u001b[0m\u001b[0mX_train\u001b[0m\u001b[0;34m,\u001b[0m \u001b[0my_train\u001b[0m\u001b[0;34m,\u001b[0m \u001b[0;34m**\u001b[0m\u001b[0mfit_params\u001b[0m\u001b[0;34m)\u001b[0m\u001b[0;34m\u001b[0m\u001b[0;34m\u001b[0m\u001b[0m\n\u001b[0m\u001b[1;32m    681\u001b[0m \u001b[0;34m\u001b[0m\u001b[0m\n\u001b[1;32m    682\u001b[0m     \u001b[0;32mexcept\u001b[0m \u001b[0mException\u001b[0m\u001b[0;34m:\u001b[0m\u001b[0;34m\u001b[0m\u001b[0;34m\u001b[0m\u001b[0m\n",
      "\u001b[0;32m~/opt/anaconda3/lib/python3.8/site-packages/sklearn/ensemble/_forest.py\u001b[0m in \u001b[0;36mfit\u001b[0;34m(self, X, y, sample_weight)\u001b[0m\n\u001b[1;32m    448\u001b[0m             \u001b[0;31m# parallel_backend contexts set at a higher level,\u001b[0m\u001b[0;34m\u001b[0m\u001b[0;34m\u001b[0m\u001b[0;34m\u001b[0m\u001b[0m\n\u001b[1;32m    449\u001b[0m             \u001b[0;31m# since correctness does not rely on using threads.\u001b[0m\u001b[0;34m\u001b[0m\u001b[0;34m\u001b[0m\u001b[0;34m\u001b[0m\u001b[0m\n\u001b[0;32m--> 450\u001b[0;31m             trees = Parallel(\n\u001b[0m\u001b[1;32m    451\u001b[0m                 \u001b[0mn_jobs\u001b[0m\u001b[0;34m=\u001b[0m\u001b[0mself\u001b[0m\u001b[0;34m.\u001b[0m\u001b[0mn_jobs\u001b[0m\u001b[0;34m,\u001b[0m\u001b[0;34m\u001b[0m\u001b[0;34m\u001b[0m\u001b[0m\n\u001b[1;32m    452\u001b[0m                 \u001b[0mverbose\u001b[0m\u001b[0;34m=\u001b[0m\u001b[0mself\u001b[0m\u001b[0;34m.\u001b[0m\u001b[0mverbose\u001b[0m\u001b[0;34m,\u001b[0m\u001b[0;34m\u001b[0m\u001b[0;34m\u001b[0m\u001b[0m\n",
      "\u001b[0;32m~/opt/anaconda3/lib/python3.8/site-packages/joblib/parallel.py\u001b[0m in \u001b[0;36m__call__\u001b[0;34m(self, iterable)\u001b[0m\n\u001b[1;32m   1049\u001b[0m                 \u001b[0mself\u001b[0m\u001b[0;34m.\u001b[0m\u001b[0m_iterating\u001b[0m \u001b[0;34m=\u001b[0m \u001b[0mself\u001b[0m\u001b[0;34m.\u001b[0m\u001b[0m_original_iterator\u001b[0m \u001b[0;32mis\u001b[0m \u001b[0;32mnot\u001b[0m \u001b[0;32mNone\u001b[0m\u001b[0;34m\u001b[0m\u001b[0;34m\u001b[0m\u001b[0m\n\u001b[1;32m   1050\u001b[0m \u001b[0;34m\u001b[0m\u001b[0m\n\u001b[0;32m-> 1051\u001b[0;31m             \u001b[0;32mwhile\u001b[0m \u001b[0mself\u001b[0m\u001b[0;34m.\u001b[0m\u001b[0mdispatch_one_batch\u001b[0m\u001b[0;34m(\u001b[0m\u001b[0miterator\u001b[0m\u001b[0;34m)\u001b[0m\u001b[0;34m:\u001b[0m\u001b[0;34m\u001b[0m\u001b[0;34m\u001b[0m\u001b[0m\n\u001b[0m\u001b[1;32m   1052\u001b[0m                 \u001b[0;32mpass\u001b[0m\u001b[0;34m\u001b[0m\u001b[0;34m\u001b[0m\u001b[0m\n\u001b[1;32m   1053\u001b[0m \u001b[0;34m\u001b[0m\u001b[0m\n",
      "\u001b[0;32m~/opt/anaconda3/lib/python3.8/site-packages/joblib/parallel.py\u001b[0m in \u001b[0;36mdispatch_one_batch\u001b[0;34m(self, iterator)\u001b[0m\n\u001b[1;32m    864\u001b[0m                 \u001b[0;32mreturn\u001b[0m \u001b[0;32mFalse\u001b[0m\u001b[0;34m\u001b[0m\u001b[0;34m\u001b[0m\u001b[0m\n\u001b[1;32m    865\u001b[0m             \u001b[0;32melse\u001b[0m\u001b[0;34m:\u001b[0m\u001b[0;34m\u001b[0m\u001b[0;34m\u001b[0m\u001b[0m\n\u001b[0;32m--> 866\u001b[0;31m                 \u001b[0mself\u001b[0m\u001b[0;34m.\u001b[0m\u001b[0m_dispatch\u001b[0m\u001b[0;34m(\u001b[0m\u001b[0mtasks\u001b[0m\u001b[0;34m)\u001b[0m\u001b[0;34m\u001b[0m\u001b[0;34m\u001b[0m\u001b[0m\n\u001b[0m\u001b[1;32m    867\u001b[0m                 \u001b[0;32mreturn\u001b[0m \u001b[0;32mTrue\u001b[0m\u001b[0;34m\u001b[0m\u001b[0;34m\u001b[0m\u001b[0m\n\u001b[1;32m    868\u001b[0m \u001b[0;34m\u001b[0m\u001b[0m\n",
      "\u001b[0;32m~/opt/anaconda3/lib/python3.8/site-packages/joblib/parallel.py\u001b[0m in \u001b[0;36m_dispatch\u001b[0;34m(self, batch)\u001b[0m\n\u001b[1;32m    782\u001b[0m         \u001b[0;32mwith\u001b[0m \u001b[0mself\u001b[0m\u001b[0;34m.\u001b[0m\u001b[0m_lock\u001b[0m\u001b[0;34m:\u001b[0m\u001b[0;34m\u001b[0m\u001b[0;34m\u001b[0m\u001b[0m\n\u001b[1;32m    783\u001b[0m             \u001b[0mjob_idx\u001b[0m \u001b[0;34m=\u001b[0m \u001b[0mlen\u001b[0m\u001b[0;34m(\u001b[0m\u001b[0mself\u001b[0m\u001b[0;34m.\u001b[0m\u001b[0m_jobs\u001b[0m\u001b[0;34m)\u001b[0m\u001b[0;34m\u001b[0m\u001b[0;34m\u001b[0m\u001b[0m\n\u001b[0;32m--> 784\u001b[0;31m             \u001b[0mjob\u001b[0m \u001b[0;34m=\u001b[0m \u001b[0mself\u001b[0m\u001b[0;34m.\u001b[0m\u001b[0m_backend\u001b[0m\u001b[0;34m.\u001b[0m\u001b[0mapply_async\u001b[0m\u001b[0;34m(\u001b[0m\u001b[0mbatch\u001b[0m\u001b[0;34m,\u001b[0m \u001b[0mcallback\u001b[0m\u001b[0;34m=\u001b[0m\u001b[0mcb\u001b[0m\u001b[0;34m)\u001b[0m\u001b[0;34m\u001b[0m\u001b[0;34m\u001b[0m\u001b[0m\n\u001b[0m\u001b[1;32m    785\u001b[0m             \u001b[0;31m# A job can complete so quickly than its callback is\u001b[0m\u001b[0;34m\u001b[0m\u001b[0;34m\u001b[0m\u001b[0;34m\u001b[0m\u001b[0m\n\u001b[1;32m    786\u001b[0m             \u001b[0;31m# called before we get here, causing self._jobs to\u001b[0m\u001b[0;34m\u001b[0m\u001b[0;34m\u001b[0m\u001b[0;34m\u001b[0m\u001b[0m\n",
      "\u001b[0;32m~/opt/anaconda3/lib/python3.8/site-packages/joblib/_parallel_backends.py\u001b[0m in \u001b[0;36mapply_async\u001b[0;34m(self, func, callback)\u001b[0m\n\u001b[1;32m    206\u001b[0m     \u001b[0;32mdef\u001b[0m \u001b[0mapply_async\u001b[0m\u001b[0;34m(\u001b[0m\u001b[0mself\u001b[0m\u001b[0;34m,\u001b[0m \u001b[0mfunc\u001b[0m\u001b[0;34m,\u001b[0m \u001b[0mcallback\u001b[0m\u001b[0;34m=\u001b[0m\u001b[0;32mNone\u001b[0m\u001b[0;34m)\u001b[0m\u001b[0;34m:\u001b[0m\u001b[0;34m\u001b[0m\u001b[0;34m\u001b[0m\u001b[0m\n\u001b[1;32m    207\u001b[0m         \u001b[0;34m\"\"\"Schedule a func to be run\"\"\"\u001b[0m\u001b[0;34m\u001b[0m\u001b[0;34m\u001b[0m\u001b[0m\n\u001b[0;32m--> 208\u001b[0;31m         \u001b[0mresult\u001b[0m \u001b[0;34m=\u001b[0m \u001b[0mImmediateResult\u001b[0m\u001b[0;34m(\u001b[0m\u001b[0mfunc\u001b[0m\u001b[0;34m)\u001b[0m\u001b[0;34m\u001b[0m\u001b[0;34m\u001b[0m\u001b[0m\n\u001b[0m\u001b[1;32m    209\u001b[0m         \u001b[0;32mif\u001b[0m \u001b[0mcallback\u001b[0m\u001b[0;34m:\u001b[0m\u001b[0;34m\u001b[0m\u001b[0;34m\u001b[0m\u001b[0m\n\u001b[1;32m    210\u001b[0m             \u001b[0mcallback\u001b[0m\u001b[0;34m(\u001b[0m\u001b[0mresult\u001b[0m\u001b[0;34m)\u001b[0m\u001b[0;34m\u001b[0m\u001b[0;34m\u001b[0m\u001b[0m\n",
      "\u001b[0;32m~/opt/anaconda3/lib/python3.8/site-packages/joblib/_parallel_backends.py\u001b[0m in \u001b[0;36m__init__\u001b[0;34m(self, batch)\u001b[0m\n\u001b[1;32m    570\u001b[0m         \u001b[0;31m# Don't delay the application, to avoid keeping the input\u001b[0m\u001b[0;34m\u001b[0m\u001b[0;34m\u001b[0m\u001b[0;34m\u001b[0m\u001b[0m\n\u001b[1;32m    571\u001b[0m         \u001b[0;31m# arguments in memory\u001b[0m\u001b[0;34m\u001b[0m\u001b[0;34m\u001b[0m\u001b[0;34m\u001b[0m\u001b[0m\n\u001b[0;32m--> 572\u001b[0;31m         \u001b[0mself\u001b[0m\u001b[0;34m.\u001b[0m\u001b[0mresults\u001b[0m \u001b[0;34m=\u001b[0m \u001b[0mbatch\u001b[0m\u001b[0;34m(\u001b[0m\u001b[0;34m)\u001b[0m\u001b[0;34m\u001b[0m\u001b[0;34m\u001b[0m\u001b[0m\n\u001b[0m\u001b[1;32m    573\u001b[0m \u001b[0;34m\u001b[0m\u001b[0m\n\u001b[1;32m    574\u001b[0m     \u001b[0;32mdef\u001b[0m \u001b[0mget\u001b[0m\u001b[0;34m(\u001b[0m\u001b[0mself\u001b[0m\u001b[0;34m)\u001b[0m\u001b[0;34m:\u001b[0m\u001b[0;34m\u001b[0m\u001b[0;34m\u001b[0m\u001b[0m\n",
      "\u001b[0;32m~/opt/anaconda3/lib/python3.8/site-packages/joblib/parallel.py\u001b[0m in \u001b[0;36m__call__\u001b[0;34m(self)\u001b[0m\n\u001b[1;32m    260\u001b[0m         \u001b[0;31m# change the default number of processes to -1\u001b[0m\u001b[0;34m\u001b[0m\u001b[0;34m\u001b[0m\u001b[0;34m\u001b[0m\u001b[0m\n\u001b[1;32m    261\u001b[0m         \u001b[0;32mwith\u001b[0m \u001b[0mparallel_backend\u001b[0m\u001b[0;34m(\u001b[0m\u001b[0mself\u001b[0m\u001b[0;34m.\u001b[0m\u001b[0m_backend\u001b[0m\u001b[0;34m,\u001b[0m \u001b[0mn_jobs\u001b[0m\u001b[0;34m=\u001b[0m\u001b[0mself\u001b[0m\u001b[0;34m.\u001b[0m\u001b[0m_n_jobs\u001b[0m\u001b[0;34m)\u001b[0m\u001b[0;34m:\u001b[0m\u001b[0;34m\u001b[0m\u001b[0;34m\u001b[0m\u001b[0m\n\u001b[0;32m--> 262\u001b[0;31m             return [func(*args, **kwargs)\n\u001b[0m\u001b[1;32m    263\u001b[0m                     for func, args, kwargs in self.items]\n\u001b[1;32m    264\u001b[0m \u001b[0;34m\u001b[0m\u001b[0m\n",
      "\u001b[0;32m~/opt/anaconda3/lib/python3.8/site-packages/joblib/parallel.py\u001b[0m in \u001b[0;36m<listcomp>\u001b[0;34m(.0)\u001b[0m\n\u001b[1;32m    260\u001b[0m         \u001b[0;31m# change the default number of processes to -1\u001b[0m\u001b[0;34m\u001b[0m\u001b[0;34m\u001b[0m\u001b[0;34m\u001b[0m\u001b[0m\n\u001b[1;32m    261\u001b[0m         \u001b[0;32mwith\u001b[0m \u001b[0mparallel_backend\u001b[0m\u001b[0;34m(\u001b[0m\u001b[0mself\u001b[0m\u001b[0;34m.\u001b[0m\u001b[0m_backend\u001b[0m\u001b[0;34m,\u001b[0m \u001b[0mn_jobs\u001b[0m\u001b[0;34m=\u001b[0m\u001b[0mself\u001b[0m\u001b[0;34m.\u001b[0m\u001b[0m_n_jobs\u001b[0m\u001b[0;34m)\u001b[0m\u001b[0;34m:\u001b[0m\u001b[0;34m\u001b[0m\u001b[0;34m\u001b[0m\u001b[0m\n\u001b[0;32m--> 262\u001b[0;31m             return [func(*args, **kwargs)\n\u001b[0m\u001b[1;32m    263\u001b[0m                     for func, args, kwargs in self.items]\n\u001b[1;32m    264\u001b[0m \u001b[0;34m\u001b[0m\u001b[0m\n",
      "\u001b[0;32m~/opt/anaconda3/lib/python3.8/site-packages/sklearn/utils/fixes.py\u001b[0m in \u001b[0;36m__call__\u001b[0;34m(self, *args, **kwargs)\u001b[0m\n\u001b[1;32m    214\u001b[0m     \u001b[0;32mdef\u001b[0m \u001b[0m__call__\u001b[0m\u001b[0;34m(\u001b[0m\u001b[0mself\u001b[0m\u001b[0;34m,\u001b[0m \u001b[0;34m*\u001b[0m\u001b[0margs\u001b[0m\u001b[0;34m,\u001b[0m \u001b[0;34m**\u001b[0m\u001b[0mkwargs\u001b[0m\u001b[0;34m)\u001b[0m\u001b[0;34m:\u001b[0m\u001b[0;34m\u001b[0m\u001b[0;34m\u001b[0m\u001b[0m\n\u001b[1;32m    215\u001b[0m         \u001b[0;32mwith\u001b[0m \u001b[0mconfig_context\u001b[0m\u001b[0;34m(\u001b[0m\u001b[0;34m**\u001b[0m\u001b[0mself\u001b[0m\u001b[0;34m.\u001b[0m\u001b[0mconfig\u001b[0m\u001b[0;34m)\u001b[0m\u001b[0;34m:\u001b[0m\u001b[0;34m\u001b[0m\u001b[0;34m\u001b[0m\u001b[0m\n\u001b[0;32m--> 216\u001b[0;31m             \u001b[0;32mreturn\u001b[0m \u001b[0mself\u001b[0m\u001b[0;34m.\u001b[0m\u001b[0mfunction\u001b[0m\u001b[0;34m(\u001b[0m\u001b[0;34m*\u001b[0m\u001b[0margs\u001b[0m\u001b[0;34m,\u001b[0m \u001b[0;34m**\u001b[0m\u001b[0mkwargs\u001b[0m\u001b[0;34m)\u001b[0m\u001b[0;34m\u001b[0m\u001b[0;34m\u001b[0m\u001b[0m\n\u001b[0m\u001b[1;32m    217\u001b[0m \u001b[0;34m\u001b[0m\u001b[0m\n\u001b[1;32m    218\u001b[0m \u001b[0;34m\u001b[0m\u001b[0m\n",
      "\u001b[0;32m~/opt/anaconda3/lib/python3.8/site-packages/sklearn/ensemble/_forest.py\u001b[0m in \u001b[0;36m_parallel_build_trees\u001b[0;34m(tree, forest, X, y, sample_weight, tree_idx, n_trees, verbose, class_weight, n_samples_bootstrap)\u001b[0m\n\u001b[1;32m    183\u001b[0m             \u001b[0mcurr_sample_weight\u001b[0m \u001b[0;34m*=\u001b[0m \u001b[0mcompute_sample_weight\u001b[0m\u001b[0;34m(\u001b[0m\u001b[0;34m\"balanced\"\u001b[0m\u001b[0;34m,\u001b[0m \u001b[0my\u001b[0m\u001b[0;34m,\u001b[0m \u001b[0mindices\u001b[0m\u001b[0;34m=\u001b[0m\u001b[0mindices\u001b[0m\u001b[0;34m)\u001b[0m\u001b[0;34m\u001b[0m\u001b[0;34m\u001b[0m\u001b[0m\n\u001b[1;32m    184\u001b[0m \u001b[0;34m\u001b[0m\u001b[0m\n\u001b[0;32m--> 185\u001b[0;31m         \u001b[0mtree\u001b[0m\u001b[0;34m.\u001b[0m\u001b[0mfit\u001b[0m\u001b[0;34m(\u001b[0m\u001b[0mX\u001b[0m\u001b[0;34m,\u001b[0m \u001b[0my\u001b[0m\u001b[0;34m,\u001b[0m \u001b[0msample_weight\u001b[0m\u001b[0;34m=\u001b[0m\u001b[0mcurr_sample_weight\u001b[0m\u001b[0;34m,\u001b[0m \u001b[0mcheck_input\u001b[0m\u001b[0;34m=\u001b[0m\u001b[0;32mFalse\u001b[0m\u001b[0;34m)\u001b[0m\u001b[0;34m\u001b[0m\u001b[0;34m\u001b[0m\u001b[0m\n\u001b[0m\u001b[1;32m    186\u001b[0m     \u001b[0;32melse\u001b[0m\u001b[0;34m:\u001b[0m\u001b[0;34m\u001b[0m\u001b[0;34m\u001b[0m\u001b[0m\n\u001b[1;32m    187\u001b[0m         \u001b[0mtree\u001b[0m\u001b[0;34m.\u001b[0m\u001b[0mfit\u001b[0m\u001b[0;34m(\u001b[0m\u001b[0mX\u001b[0m\u001b[0;34m,\u001b[0m \u001b[0my\u001b[0m\u001b[0;34m,\u001b[0m \u001b[0msample_weight\u001b[0m\u001b[0;34m=\u001b[0m\u001b[0msample_weight\u001b[0m\u001b[0;34m,\u001b[0m \u001b[0mcheck_input\u001b[0m\u001b[0;34m=\u001b[0m\u001b[0;32mFalse\u001b[0m\u001b[0;34m)\u001b[0m\u001b[0;34m\u001b[0m\u001b[0;34m\u001b[0m\u001b[0m\n",
      "\u001b[0;32m~/opt/anaconda3/lib/python3.8/site-packages/sklearn/tree/_classes.py\u001b[0m in \u001b[0;36mfit\u001b[0;34m(self, X, y, sample_weight, check_input, X_idx_sorted)\u001b[0m\n\u001b[1;32m   1313\u001b[0m         \"\"\"\n\u001b[1;32m   1314\u001b[0m \u001b[0;34m\u001b[0m\u001b[0m\n\u001b[0;32m-> 1315\u001b[0;31m         super().fit(\n\u001b[0m\u001b[1;32m   1316\u001b[0m             \u001b[0mX\u001b[0m\u001b[0;34m,\u001b[0m\u001b[0;34m\u001b[0m\u001b[0;34m\u001b[0m\u001b[0m\n\u001b[1;32m   1317\u001b[0m             \u001b[0my\u001b[0m\u001b[0;34m,\u001b[0m\u001b[0;34m\u001b[0m\u001b[0;34m\u001b[0m\u001b[0m\n",
      "\u001b[0;32m~/opt/anaconda3/lib/python3.8/site-packages/sklearn/tree/_classes.py\u001b[0m in \u001b[0;36mfit\u001b[0;34m(self, X, y, sample_weight, check_input, X_idx_sorted)\u001b[0m\n\u001b[1;32m    418\u001b[0m             )\n\u001b[1;32m    419\u001b[0m \u001b[0;34m\u001b[0m\u001b[0m\n\u001b[0;32m--> 420\u001b[0;31m         \u001b[0mbuilder\u001b[0m\u001b[0;34m.\u001b[0m\u001b[0mbuild\u001b[0m\u001b[0;34m(\u001b[0m\u001b[0mself\u001b[0m\u001b[0;34m.\u001b[0m\u001b[0mtree_\u001b[0m\u001b[0;34m,\u001b[0m \u001b[0mX\u001b[0m\u001b[0;34m,\u001b[0m \u001b[0my\u001b[0m\u001b[0;34m,\u001b[0m \u001b[0msample_weight\u001b[0m\u001b[0;34m)\u001b[0m\u001b[0;34m\u001b[0m\u001b[0;34m\u001b[0m\u001b[0m\n\u001b[0m\u001b[1;32m    421\u001b[0m \u001b[0;34m\u001b[0m\u001b[0m\n\u001b[1;32m    422\u001b[0m         \u001b[0;32mif\u001b[0m \u001b[0mself\u001b[0m\u001b[0;34m.\u001b[0m\u001b[0mn_outputs_\u001b[0m \u001b[0;34m==\u001b[0m \u001b[0;36m1\u001b[0m \u001b[0;32mand\u001b[0m \u001b[0mis_classifier\u001b[0m\u001b[0;34m(\u001b[0m\u001b[0mself\u001b[0m\u001b[0;34m)\u001b[0m\u001b[0;34m:\u001b[0m\u001b[0;34m\u001b[0m\u001b[0;34m\u001b[0m\u001b[0m\n",
      "\u001b[0;31mKeyboardInterrupt\u001b[0m: "
     ]
    }
   ],
   "source": [
    "random_forest = RandomForestRegressor(n_estimators=100)\n",
    "random_forest.fit(X_train, y_train)\n",
    "predictions = random_forest.predict(X_test)\n",
    "\n",
    "mae, mse, rmse, r_squared = evaluation(y_test, predictions)\n",
    "print(\"MAE:\", mae)\n",
    "print(\"MSE:\", mse)\n",
    "print(\"RMSE:\", rmse)\n",
    "print(\"R2 Score:\", r_squared)\n",
    "print(\"-\"*30)\n",
    "rmse_cross_val = rmse_cv(random_forest)\n",
    "print(\"RMSE Cross-Validation:\", rmse_cross_val)\n",
    "\n",
    "new_row = {\"Model\": \"RandomForestRegressor\",\"MAE\": mae, \"MSE\": mse, \"RMSE\": rmse, \"R2 Score\": r_squared, \"RMSE (Cross-Validation)\": rmse_cross_val}\n",
    "models = models.append(new_row, ignore_index=True)"
   ]
  },
  {
   "cell_type": "markdown",
   "metadata": {},
   "source": [
    "## XGBoost Regressor"
   ]
  },
  {
   "cell_type": "code",
   "execution_count": null,
   "metadata": {},
   "outputs": [],
   "source": [
    "xgb = XGBRegressor(n_estimators=1000, learning_rate=0.01)\n",
    "xgb.fit(X_train, y_train)\n",
    "predictions = xgb.predict(X_test)\n",
    "\n",
    "mae, mse, rmse, r_squared = evaluation(y_test, predictions)\n",
    "print(\"MAE:\", mae)\n",
    "print(\"MSE:\", mse)\n",
    "print(\"RMSE:\", rmse)\n",
    "print(\"R2 Score:\", r_squared)\n",
    "print(\"-\"*30)\n",
    "rmse_cross_val = rmse_cv(xgb)\n",
    "print(\"RMSE Cross-Validation:\", rmse_cross_val)\n",
    "\n",
    "new_row = {\"Model\": \"XGBRegressor\",\"MAE\": mae, \"MSE\": mse, \"RMSE\": rmse, \"R2 Score\": r_squared, \"RMSE (Cross-Validation)\": rmse_cross_val}\n",
    "models = models.append(new_row, ignore_index=True)"
   ]
  },
  {
   "cell_type": "markdown",
   "metadata": {},
   "source": [
    "## Polynomial Regression (Degree=2)"
   ]
  },
  {
   "cell_type": "code",
   "execution_count": null,
   "metadata": {},
   "outputs": [],
   "source": [
    "poly_reg = PolynomialFeatures(degree=2)\n",
    "X_train_2d = poly_reg.fit_transform(X_train)\n",
    "X_test_2d = poly_reg.transform(X_test)\n",
    "\n",
    "lin_reg = LinearRegression()\n",
    "lin_reg.fit(X_train_2d, y_train)\n",
    "predictions = lin_reg.predict(X_test_2d)\n",
    "\n",
    "mae, mse, rmse, r_squared = evaluation(y_test, predictions)\n",
    "print(\"MAE:\", mae)\n",
    "print(\"MSE:\", mse)\n",
    "print(\"RMSE:\", rmse)\n",
    "print(\"R2 Score:\", r_squared)\n",
    "print(\"-\"*30)\n",
    "rmse_cross_val = rmse_cv(lin_reg)\n",
    "print(\"RMSE Cross-Validation:\", rmse_cross_val)\n",
    "\n",
    "new_row = {\"Model\": \"Polynomial Regression (degree=2)\",\"MAE\": mae, \"MSE\": mse, \"RMSE\": rmse, \"R2 Score\": r_squared, \"RMSE (Cross-Validation)\": rmse_cross_val}\n",
    "models = models.append(new_row, ignore_index=True)"
   ]
  },
  {
   "cell_type": "markdown",
   "metadata": {},
   "source": [
    "# Model Comparison"
   ]
  },
  {
   "cell_type": "markdown",
   "metadata": {},
   "source": [
    "The less the Normalized Root Mean Squared Error (RMSE), The better the model is."
   ]
  },
  {
   "cell_type": "code",
   "execution_count": null,
   "metadata": {},
   "outputs": [],
   "source": [
    "models['Normalized RMSE'] = models[\"RMSE (Cross-Validation)\"] / (max(df.sold_price) - min(df.sold_price))"
   ]
  },
  {
   "cell_type": "code",
   "execution_count": null,
   "metadata": {},
   "outputs": [],
   "source": [
    "models.sort_values(by=\"Normalized RMSE\") "
   ]
  },
  {
   "cell_type": "code",
   "execution_count": null,
   "metadata": {},
   "outputs": [],
   "source": [
    "models2 = models.drop([0, 7])"
   ]
  },
  {
   "cell_type": "code",
   "execution_count": null,
   "metadata": {},
   "outputs": [],
   "source": []
  },
  {
   "cell_type": "code",
   "execution_count": null,
   "metadata": {},
   "outputs": [],
   "source": [
    "plt.figure(figsize=(12,8))\n",
    "sns.barplot(x=models2[\"Model\"], y=models[\"Normalized RMSE\"])\n",
    "plt.title(\"Models' Normalized RMSE Scores\", size=15)\n",
    "plt.xticks(rotation=30, size=12)\n",
    "plt.show()"
   ]
  },
  {
   "cell_type": "markdown",
   "metadata": {},
   "source": [
    "Since the RMSE value of SVM and XGBRegressor are lowest, we would select Support Vector Machine & XGBRegressor as the best model for predicting house prices since the average distance between the predicted prices and the actual prices is lowest for that model."
   ]
  },
  {
   "cell_type": "markdown",
   "metadata": {},
   "source": [
    "# Models Testing"
   ]
  },
  {
   "cell_type": "code",
   "execution_count": null,
   "metadata": {},
   "outputs": [],
   "source": []
  },
  {
   "cell_type": "markdown",
   "metadata": {},
   "source": [
    "## XBG"
   ]
  },
  {
   "cell_type": "code",
   "execution_count": null,
   "metadata": {},
   "outputs": [],
   "source": [
    "test_data = pd.read_csv('test_data_1.csv')"
   ]
  },
  {
   "cell_type": "code",
   "execution_count": null,
   "metadata": {},
   "outputs": [],
   "source": [
    "test_data = test_data.drop(columns=['list_price'])"
   ]
  },
  {
   "cell_type": "code",
   "execution_count": null,
   "metadata": {},
   "outputs": [],
   "source": [
    "test_data['zip'] = [60954, 60954]"
   ]
  },
  {
   "cell_type": "code",
   "execution_count": null,
   "metadata": {},
   "outputs": [],
   "source": [
    "test_data"
   ]
  },
  {
   "cell_type": "code",
   "execution_count": null,
   "metadata": {},
   "outputs": [],
   "source": [
    "new_df = pd.concat([df, test_data], ignore_index=True, sort=False)"
   ]
  },
  {
   "cell_type": "code",
   "execution_count": null,
   "metadata": {},
   "outputs": [],
   "source": []
  },
  {
   "cell_type": "code",
   "execution_count": null,
   "metadata": {},
   "outputs": [],
   "source": [
    "X = new_df.drop(\"sold_price\", axis=1)\n",
    "y = new_df[\"sold_price\"]"
   ]
  },
  {
   "cell_type": "code",
   "execution_count": null,
   "metadata": {},
   "outputs": [],
   "source": [
    "X2 = pd.get_dummies(X, columns=cat_cols)\n",
    "# important_num_cols.remove(\"sold_price\")\n",
    "\n",
    "scaler = StandardScaler()\n",
    "X[important_num_cols] = scaler.fit_transform(X[important_num_cols])"
   ]
  },
  {
   "cell_type": "code",
   "execution_count": null,
   "metadata": {},
   "outputs": [],
   "source": [
    "X = X2.drop([6385, 6386])\n",
    "y = y.dropna()"
   ]
  },
  {
   "cell_type": "code",
   "execution_count": null,
   "metadata": {},
   "outputs": [],
   "source": [
    "X_train, X_test, y_train, y_test = train_test_split(X, y, test_size=0.2, random_state=42)"
   ]
  },
  {
   "cell_type": "code",
   "execution_count": null,
   "metadata": {},
   "outputs": [],
   "source": [
    "xgb = XGBRegressor(n_estimators=1000, learning_rate=0.01)\n",
    "xgb.fit(X_train, y_train)\n",
    "predictions = xgb.predict(X_test)"
   ]
  },
  {
   "cell_type": "code",
   "execution_count": null,
   "metadata": {},
   "outputs": [],
   "source": [
    "predictions2 = xgb.predict(X2)"
   ]
  },
  {
   "cell_type": "code",
   "execution_count": null,
   "metadata": {},
   "outputs": [],
   "source": []
  },
  {
   "cell_type": "code",
   "execution_count": null,
   "metadata": {},
   "outputs": [],
   "source": [
    "new_df['estimated_price'] = np.round(predictions2)"
   ]
  },
  {
   "cell_type": "code",
   "execution_count": null,
   "metadata": {},
   "outputs": [],
   "source": [
    "new_df = new_df[[\n",
    "    'above_grade_square_feet', 'finished_square_feet', 'baths',\n",
    "    'city', 'state', 'county', 'structural_style', 'property_type',\n",
    "    'architecture', 'structural_type', 'zoned', 'zip',\n",
    "    'sold_price', 'estimated_price'\n",
    "]]\n",
    "\n",
    "new_df"
   ]
  },
  {
   "cell_type": "code",
   "execution_count": null,
   "metadata": {},
   "outputs": [],
   "source": []
  },
  {
   "cell_type": "code",
   "execution_count": null,
   "metadata": {},
   "outputs": [],
   "source": []
  },
  {
   "cell_type": "markdown",
   "metadata": {},
   "source": [
    "## Support Vector Machines"
   ]
  },
  {
   "cell_type": "code",
   "execution_count": null,
   "metadata": {},
   "outputs": [],
   "source": [
    "X = new_df.drop(\"sold_price\", axis=1)\n",
    "y = new_df[\"sold_price\"]"
   ]
  },
  {
   "cell_type": "code",
   "execution_count": null,
   "metadata": {},
   "outputs": [],
   "source": [
    "X2 = pd.get_dummies(X, columns=cat_cols)\n",
    "# important_num_cols.remove(\"sold_price\")\n",
    "\n",
    "scaler = StandardScaler()\n",
    "X[important_num_cols] = scaler.fit_transform(X[important_num_cols])"
   ]
  },
  {
   "cell_type": "code",
   "execution_count": null,
   "metadata": {},
   "outputs": [],
   "source": [
    "X = X2.drop([6385, 6386])\n",
    "y = y.dropna()"
   ]
  },
  {
   "cell_type": "code",
   "execution_count": null,
   "metadata": {},
   "outputs": [],
   "source": [
    "X_train, X_test, y_train, y_test = train_test_split(X, y, test_size=0.2, random_state=42)"
   ]
  },
  {
   "cell_type": "code",
   "execution_count": null,
   "metadata": {},
   "outputs": [],
   "source": [
    "svr = SVR(C=100000)\n",
    "svr.fit(X_train, y_train)\n",
    "predictions2 = svr.predict(X2)"
   ]
  },
  {
   "cell_type": "code",
   "execution_count": null,
   "metadata": {},
   "outputs": [],
   "source": [
    "new_df['estimated_price'] = np.round(predictions2)"
   ]
  },
  {
   "cell_type": "code",
   "execution_count": null,
   "metadata": {},
   "outputs": [],
   "source": [
    "new_df = new_df[[\n",
    "    'above_grade_square_feet', 'finished_square_feet', 'baths',\n",
    "    'city', 'state', 'county', 'structural_style', 'property_type',\n",
    "    'architecture', 'structural_type', 'zoned', 'zip',\n",
    "    'sold_price', 'estimated_price'\n",
    "]]\n",
    "\n",
    "new_df"
   ]
  },
  {
   "cell_type": "code",
   "execution_count": null,
   "metadata": {},
   "outputs": [],
   "source": []
  },
  {
   "cell_type": "markdown",
   "metadata": {},
   "source": [
    "# With list_price"
   ]
  },
  {
   "cell_type": "code",
   "execution_count": null,
   "metadata": {},
   "outputs": [],
   "source": [
    "chicago_list_clean = chicago_list.copy()"
   ]
  },
  {
   "cell_type": "code",
   "execution_count": null,
   "metadata": {},
   "outputs": [],
   "source": [
    "chicago_list_clean = chicago_list_clean.drop(columns=[\n",
    "    'id', 'property_id', 'listing_number', 'status_changed_on', 'created_at',\n",
    "    'updated_at', 'status', 'listed_on', 'contracted_on', 'off_market_on',\n",
    "    'sold_on', 'subdivision', 'street', 'property_key',\n",
    "    'externally_last_updated_at', 'photos', 'photos_pulled', 'public_remarks',\n",
    "    'description', 'listing_agent', 'listing_brokerage', 'parcel_number',\n",
    "    'private_remarks', 'price_changes', 'county_data_id', 'car_storage'\n",
    "])"
   ]
  },
  {
   "cell_type": "code",
   "execution_count": null,
   "metadata": {},
   "outputs": [],
   "source": [
    "chicago_list_clean['zip'] = pd.to_numeric(chicago_list_clean['zip'], errors='coerce')\n",
    "chicago_list_clean = chicago_list_clean.dropna(subset=['zip'])\n",
    "chicago_list_clean['zip'] = chicago_list_clean['zip'].astype('int')"
   ]
  },
  {
   "cell_type": "code",
   "execution_count": null,
   "metadata": {},
   "outputs": [],
   "source": [
    "important_num_cols = list(\n",
    "    chicago_list_clean.corr()[\"sold_price\"][(chicago_list_clean.corr()[\"sold_price\"] > 0.50) | (\n",
    "        chicago_list_clean.corr()[\"sold_price\"] < -0.50)].index)\n",
    "\n",
    "cat_cols = [\n",
    "    \"city\", \"state\", \"county\", \"structural_style\", \"property_type\",\n",
    "    \"architecture\", \"structural_type\", \"zoned\", \"zip\"\n",
    "]\n",
    "\n",
    "important_cols = important_num_cols + cat_cols\n",
    "\n",
    "df = chicago_list_clean[important_cols]"
   ]
  },
  {
   "cell_type": "code",
   "execution_count": null,
   "metadata": {},
   "outputs": [],
   "source": [
    "df = df.dropna()"
   ]
  },
  {
   "cell_type": "code",
   "execution_count": null,
   "metadata": {},
   "outputs": [],
   "source": []
  },
  {
   "cell_type": "code",
   "execution_count": null,
   "metadata": {},
   "outputs": [],
   "source": [
    "X = df.drop(\"sold_price\", axis=1)\n",
    "y = df[\"sold_price\"]"
   ]
  },
  {
   "cell_type": "code",
   "execution_count": null,
   "metadata": {},
   "outputs": [],
   "source": [
    "X = pd.get_dummies(X, columns=cat_cols)"
   ]
  },
  {
   "cell_type": "code",
   "execution_count": null,
   "metadata": {},
   "outputs": [],
   "source": [
    "important_num_cols.remove(\"sold_price\")\n",
    "\n",
    "scaler = StandardScaler()\n",
    "X[important_num_cols] = scaler.fit_transform(X[important_num_cols])"
   ]
  },
  {
   "cell_type": "code",
   "execution_count": null,
   "metadata": {},
   "outputs": [],
   "source": []
  },
  {
   "cell_type": "code",
   "execution_count": null,
   "metadata": {},
   "outputs": [],
   "source": [
    "X_train, X_test, y_train, y_test = train_test_split(X, y, test_size=0.2, random_state=42)"
   ]
  },
  {
   "cell_type": "code",
   "execution_count": null,
   "metadata": {},
   "outputs": [],
   "source": [
    "models_wlistprice = pd.DataFrame(columns=[\"Model\",\"MAE\",\"MSE\",\"RMSE\",\"R2 Score\",\"RMSE (Cross-Validation)\"])"
   ]
  },
  {
   "cell_type": "code",
   "execution_count": null,
   "metadata": {},
   "outputs": [],
   "source": [
    "lin_reg = LinearRegression()\n",
    "lin_reg.fit(X_train, y_train)\n",
    "predictions = lin_reg.predict(X_test)\n",
    "\n",
    "mae, mse, rmse, r_squared = evaluation(y_test, predictions)\n",
    "print(\"MAE:\", mae)\n",
    "print(\"MSE:\", mse)\n",
    "print(\"RMSE:\", rmse)\n",
    "print(\"R2 Score:\", r_squared)\n",
    "print(\"-\"*30)\n",
    "rmse_cross_val = rmse_cv(lin_reg)\n",
    "print(\"RMSE Cross-Validation:\", rmse_cross_val)\n",
    "\n",
    "new_row = {\"Model\": \"LinearRegression\",\"MAE\": mae, \"MSE\": mse, \"RMSE\": rmse, \"R2 Score\": r_squared, \"RMSE (Cross-Validation)\": rmse_cross_val}\n",
    "models_wlistprice = models_wlistprice.append(new_row, ignore_index=True)"
   ]
  },
  {
   "cell_type": "code",
   "execution_count": null,
   "metadata": {},
   "outputs": [],
   "source": [
    "ridge = Ridge()\n",
    "ridge.fit(X_train, y_train)\n",
    "predictions = ridge.predict(X_test)\n",
    "\n",
    "mae, mse, rmse, r_squared = evaluation(y_test, predictions)\n",
    "print(\"MAE:\", mae)\n",
    "print(\"MSE:\", mse)\n",
    "print(\"RMSE:\", rmse)\n",
    "print(\"R2 Score:\", r_squared)\n",
    "print(\"-\"*30)\n",
    "rmse_cross_val = rmse_cv(ridge)\n",
    "print(\"RMSE Cross-Validation:\", rmse_cross_val)\n",
    "\n",
    "new_row = {\"Model\": \"Ridge\",\"MAE\": mae, \"MSE\": mse, \"RMSE\": rmse, \"R2 Score\": r_squared, \"RMSE (Cross-Validation)\": rmse_cross_val}\n",
    "models_wlistprice = models_wlistprice.append(new_row, ignore_index=True)"
   ]
  },
  {
   "cell_type": "code",
   "execution_count": null,
   "metadata": {},
   "outputs": [],
   "source": [
    "lasso = Lasso()\n",
    "lasso.fit(X_train, y_train)\n",
    "predictions = lasso.predict(X_test)\n",
    "\n",
    "mae, mse, rmse, r_squared = evaluation(y_test, predictions)\n",
    "print(\"MAE:\", mae)\n",
    "print(\"MSE:\", mse)\n",
    "print(\"RMSE:\", rmse)\n",
    "print(\"R2 Score:\", r_squared)\n",
    "print(\"-\"*30)\n",
    "rmse_cross_val = rmse_cv(lasso)\n",
    "print(\"RMSE Cross-Validation:\", rmse_cross_val)\n",
    "\n",
    "new_row = {\"Model\": \"Lasso\",\"MAE\": mae, \"MSE\": mse, \"RMSE\": rmse, \"R2 Score\": r_squared, \"RMSE (Cross-Validation)\": rmse_cross_val}\n",
    "models_wlistprice = models_wlistprice.append(new_row, ignore_index=True)"
   ]
  },
  {
   "cell_type": "code",
   "execution_count": null,
   "metadata": {},
   "outputs": [],
   "source": [
    "elastic_net = ElasticNet()\n",
    "elastic_net.fit(X_train, y_train)\n",
    "predictions = elastic_net.predict(X_test)\n",
    "\n",
    "mae, mse, rmse, r_squared = evaluation(y_test, predictions)\n",
    "print(\"MAE:\", mae)\n",
    "print(\"MSE:\", mse)\n",
    "print(\"RMSE:\", rmse)\n",
    "print(\"R2 Score:\", r_squared)\n",
    "print(\"-\"*30)\n",
    "rmse_cross_val = rmse_cv(elastic_net)\n",
    "print(\"RMSE Cross-Validation:\", rmse_cross_val)\n",
    "\n",
    "new_row = {\"Model\": \"ElasticNet\",\"MAE\": mae, \"MSE\": mse, \"RMSE\": rmse, \"R2 Score\": r_squared, \"RMSE (Cross-Validation)\": rmse_cross_val}\n",
    "models_wlistprice = models_wlistprice.append(new_row, ignore_index=True)"
   ]
  },
  {
   "cell_type": "code",
   "execution_count": null,
   "metadata": {},
   "outputs": [],
   "source": [
    "svr = SVR(C=100000)\n",
    "svr.fit(X_train, y_train)\n",
    "predictions = svr.predict(X_test)\n",
    "\n",
    "mae, mse, rmse, r_squared = evaluation(y_test, predictions)\n",
    "print(\"MAE:\", mae)\n",
    "print(\"MSE:\", mse)\n",
    "print(\"RMSE:\", rmse)\n",
    "print(\"R2 Score:\", r_squared)\n",
    "print(\"-\"*30)\n",
    "rmse_cross_val = rmse_cv(svr)\n",
    "print(\"RMSE Cross-Validation:\", rmse_cross_val)\n",
    "\n",
    "new_row = {\"Model\": \"SVR\",\"MAE\": mae, \"MSE\": mse, \"RMSE\": rmse, \"R2 Score\": r_squared, \"RMSE (Cross-Validation)\": rmse_cross_val}\n",
    "models_wlistprice = models_wlistprice.append(new_row, ignore_index=True)"
   ]
  },
  {
   "cell_type": "code",
   "execution_count": null,
   "metadata": {},
   "outputs": [],
   "source": [
    "random_forest = RandomForestRegressor(n_estimators=100)\n",
    "random_forest.fit(X_train, y_train)\n",
    "predictions = random_forest.predict(X_test)\n",
    "\n",
    "mae, mse, rmse, r_squared = evaluation(y_test, predictions)\n",
    "print(\"MAE:\", mae)\n",
    "print(\"MSE:\", mse)\n",
    "print(\"RMSE:\", rmse)\n",
    "print(\"R2 Score:\", r_squared)\n",
    "print(\"-\"*30)\n",
    "rmse_cross_val = rmse_cv(random_forest)\n",
    "print(\"RMSE Cross-Validation:\", rmse_cross_val)\n",
    "\n",
    "new_row = {\"Model\": \"RandomForestRegressor\",\"MAE\": mae, \"MSE\": mse, \"RMSE\": rmse, \"R2 Score\": r_squared, \"RMSE (Cross-Validation)\": rmse_cross_val}\n",
    "models_wlistprice = models_wlistprice.append(new_row, ignore_index=True)"
   ]
  },
  {
   "cell_type": "code",
   "execution_count": null,
   "metadata": {},
   "outputs": [],
   "source": [
    "xgb = XGBRegressor(n_estimators=1000, learning_rate=0.01)\n",
    "xgb.fit(X_train, y_train)\n",
    "predictions = xgb.predict(X_test)\n",
    "\n",
    "mae, mse, rmse, r_squared = evaluation(y_test, predictions)\n",
    "print(\"MAE:\", mae)\n",
    "print(\"MSE:\", mse)\n",
    "print(\"RMSE:\", rmse)\n",
    "print(\"R2 Score:\", r_squared)\n",
    "print(\"-\"*30)\n",
    "rmse_cross_val = rmse_cv(xgb)\n",
    "print(\"RMSE Cross-Validation:\", rmse_cross_val)\n",
    "\n",
    "new_row = {\"Model\": \"XGBRegressor\",\"MAE\": mae, \"MSE\": mse, \"RMSE\": rmse, \"R2 Score\": r_squared, \"RMSE (Cross-Validation)\": rmse_cross_val}\n",
    "models_wlistprice = models_wlistprice.append(new_row, ignore_index=True)"
   ]
  },
  {
   "cell_type": "code",
   "execution_count": null,
   "metadata": {},
   "outputs": [],
   "source": [
    "poly_reg = PolynomialFeatures(degree=2)\n",
    "X_train_2d = poly_reg.fit_transform(X_train)\n",
    "X_test_2d = poly_reg.transform(X_test)\n",
    "\n",
    "lin_reg = LinearRegression()\n",
    "lin_reg.fit(X_train_2d, y_train)\n",
    "predictions = lin_reg.predict(X_test_2d)\n",
    "\n",
    "mae, mse, rmse, r_squared = evaluation(y_test, predictions)\n",
    "print(\"MAE:\", mae)\n",
    "print(\"MSE:\", mse)\n",
    "print(\"RMSE:\", rmse)\n",
    "print(\"R2 Score:\", r_squared)\n",
    "print(\"-\"*30)\n",
    "rmse_cross_val = rmse_cv(lin_reg)\n",
    "print(\"RMSE Cross-Validation:\", rmse_cross_val)\n",
    "\n",
    "new_row = {\"Model\": \"Polynomial Regression (degree=2)\",\"MAE\": mae, \"MSE\": mse, \"RMSE\": rmse, \"R2 Score\": r_squared, \"RMSE (Cross-Validation)\": rmse_cross_val}\n",
    "models_wlistprice = models_wlistprice.append(new_row, ignore_index=True)"
   ]
  },
  {
   "cell_type": "code",
   "execution_count": null,
   "metadata": {},
   "outputs": [],
   "source": [
    "models_wlistprice['Normalized RMSE'] = models_wlistprice[\"RMSE (Cross-Validation)\"] / (max(df.sold_price) - min(df.sold_price))"
   ]
  },
  {
   "cell_type": "code",
   "execution_count": null,
   "metadata": {},
   "outputs": [],
   "source": [
    "models_wlistprice.sort_values(by=\"Normalized RMSE\") "
   ]
  },
  {
   "cell_type": "code",
   "execution_count": null,
   "metadata": {},
   "outputs": [],
   "source": []
  },
  {
   "cell_type": "markdown",
   "metadata": {},
   "source": [
    "# Testing"
   ]
  },
  {
   "cell_type": "code",
   "execution_count": null,
   "metadata": {},
   "outputs": [],
   "source": [
    "test_data = pd.read_csv('test_data_1.csv')"
   ]
  },
  {
   "cell_type": "code",
   "execution_count": null,
   "metadata": {},
   "outputs": [],
   "source": [
    "new_df = pd.concat([df, test_data], ignore_index=True, sort=False)"
   ]
  },
  {
   "cell_type": "code",
   "execution_count": null,
   "metadata": {},
   "outputs": [],
   "source": [
    "X = new_df.drop(\"sold_price\", axis=1)\n",
    "y = new_df[\"sold_price\"]"
   ]
  },
  {
   "cell_type": "code",
   "execution_count": null,
   "metadata": {},
   "outputs": [],
   "source": [
    "X2 = pd.get_dummies(X, columns=cat_cols)\n",
    "# important_num_cols.remove(\"sold_price\")\n",
    "\n",
    "scaler = StandardScaler()\n",
    "X[important_num_cols] = scaler.fit_transform(X[important_num_cols])"
   ]
  },
  {
   "cell_type": "code",
   "execution_count": null,
   "metadata": {},
   "outputs": [],
   "source": [
    "X = X2.drop([6385, 6386])\n",
    "y = y.dropna()"
   ]
  },
  {
   "cell_type": "code",
   "execution_count": null,
   "metadata": {},
   "outputs": [],
   "source": [
    "X_train, X_test, y_train, y_test = train_test_split(X, y, test_size=0.2, random_state=42)"
   ]
  },
  {
   "cell_type": "code",
   "execution_count": null,
   "metadata": {},
   "outputs": [],
   "source": [
    "xgb = XGBRegressor(n_estimators=1000, learning_rate=0.01)\n",
    "xgb.fit(X_train, y_train)\n",
    "predictions3 = xgb.predict(X2)"
   ]
  },
  {
   "cell_type": "code",
   "execution_count": null,
   "metadata": {},
   "outputs": [],
   "source": [
    "new_df['estimated_price'] = np.round(predictions3)\n",
    "new_df = new_df[[\n",
    "    'above_grade_square_feet', 'finished_square_feet', 'baths',\n",
    "    'city', 'state', 'county', 'structural_style', 'property_type',\n",
    "    'architecture', 'structural_type', 'zoned', 'zip',\n",
    "    'list_price', 'sold_price', 'estimated_price'\n",
    "]]\n",
    "\n",
    "new_df"
   ]
  },
  {
   "cell_type": "code",
   "execution_count": null,
   "metadata": {},
   "outputs": [],
   "source": [
    "df.to_csv('Test2.csv')"
   ]
  },
  {
   "cell_type": "code",
   "execution_count": null,
   "metadata": {},
   "outputs": [],
   "source": []
  }
 ],
 "metadata": {
  "hide_input": false,
  "kernelspec": {
   "display_name": "Python 3",
   "language": "python",
   "name": "python3"
  },
  "language_info": {
   "codemirror_mode": {
    "name": "ipython",
    "version": 3
   },
   "file_extension": ".py",
   "mimetype": "text/x-python",
   "name": "python",
   "nbconvert_exporter": "python",
   "pygments_lexer": "ipython3",
   "version": "3.8.5"
  },
  "toc": {
   "base_numbering": 1,
   "nav_menu": {},
   "number_sections": false,
   "sideBar": true,
   "skip_h1_title": true,
   "title_cell": "Table of Contents",
   "title_sidebar": "Contents",
   "toc_cell": false,
   "toc_position": {},
   "toc_section_display": true,
   "toc_window_display": true
  },
  "varInspector": {
   "cols": {
    "lenName": 16,
    "lenType": 16,
    "lenVar": 40
   },
   "kernels_config": {
    "python": {
     "delete_cmd_postfix": "",
     "delete_cmd_prefix": "del ",
     "library": "var_list.py",
     "varRefreshCmd": "print(var_dic_list())"
    },
    "r": {
     "delete_cmd_postfix": ") ",
     "delete_cmd_prefix": "rm(",
     "library": "var_list.r",
     "varRefreshCmd": "cat(var_dic_list()) "
    }
   },
   "types_to_exclude": [
    "module",
    "function",
    "builtin_function_or_method",
    "instance",
    "_Feature"
   ],
   "window_display": false
  }
 },
 "nbformat": 4,
 "nbformat_minor": 5
}
